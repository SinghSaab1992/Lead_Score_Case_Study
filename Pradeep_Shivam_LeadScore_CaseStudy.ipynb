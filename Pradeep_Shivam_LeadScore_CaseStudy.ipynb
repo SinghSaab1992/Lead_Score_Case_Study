{
 "cells": [
  {
   "cell_type": "markdown",
   "id": "b7c32ff4",
   "metadata": {},
   "source": [
    "### Problem Statement\n",
    "\n",
    "An education company named X Education sells online courses to industry professionals. On any given day, many professionals who are interested in the courses land on their website and browse for courses. \n",
    "\n",
    "The company markets its courses on several websites and search engines like Google. Once these people land on the website, they might browse the courses or fill up a form for the course or watch some videos. When these people fill up a form providing their email address or phone number, they are classified to be a lead. Moreover, the company also gets leads through past referrals. Once these leads are acquired, employees from the sales team start making calls, writing emails, etc. Through this process, some of the leads get converted while most do not. The typical lead conversion rate at X education is around 30%. \n",
    "\n",
    "Now, although X Education gets a lot of leads, its lead conversion rate is very poor. For example, if, say, they acquire 100 leads in a day, only about 30 of them are converted. To make this process more efficient, the company wishes to identify the most potential leads, also known as ‘Hot Leads’. If they successfully identify this set of leads, the lead conversion rate should go up as the sales team will now be focusing more on communicating with the potential leads rather than making calls to everyone.\n",
    "\n",
    "As you can see, there are a lot of leads generated in the initial stage (top) but only a few of them come out as paying customers from the bottom. In the middle stage, you need to nurture the potential leads well (i.e. educating the leads about the product, constantly communicating etc. ) in order to get a higher lead conversion.\n",
    "\n",
    "X Education has appointed you to help them select the most promising leads, i.e. the leads that are most likely to convert into paying customers. The company requires you to build a model wherein you need to assign a lead score to each of the leads such that the customers with a higher lead score have a higher conversion chance and the customers with a lower lead score have a lower conversion chance. The CEO, in particular, has given a ballpark of the target lead conversion rate to be around 80%."
   ]
  },
  {
   "cell_type": "markdown",
   "id": "a7ef5108",
   "metadata": {},
   "source": [
    "### Step 1: Importing Data"
   ]
  },
  {
   "cell_type": "code",
   "execution_count": 242,
   "id": "e39c4458",
   "metadata": {},
   "outputs": [],
   "source": [
    "# Suppressing Warnings\n",
    "import warnings\n",
    "warnings.filterwarnings('ignore')"
   ]
  },
  {
   "cell_type": "code",
   "execution_count": 243,
   "id": "d2d0a980",
   "metadata": {},
   "outputs": [],
   "source": [
    "# Importing Pandas and NumPy\n",
    "import pandas as pd, numpy as np"
   ]
  },
  {
   "cell_type": "code",
   "execution_count": 244,
   "id": "b760366e",
   "metadata": {},
   "outputs": [
    {
     "data": {
      "text/html": [
       "<div>\n",
       "<style scoped>\n",
       "    .dataframe tbody tr th:only-of-type {\n",
       "        vertical-align: middle;\n",
       "    }\n",
       "\n",
       "    .dataframe tbody tr th {\n",
       "        vertical-align: top;\n",
       "    }\n",
       "\n",
       "    .dataframe thead th {\n",
       "        text-align: right;\n",
       "    }\n",
       "</style>\n",
       "<table border=\"1\" class=\"dataframe\">\n",
       "  <thead>\n",
       "    <tr style=\"text-align: right;\">\n",
       "      <th></th>\n",
       "      <th>Prospect ID</th>\n",
       "      <th>Lead Number</th>\n",
       "      <th>Lead Origin</th>\n",
       "      <th>Lead Source</th>\n",
       "      <th>Do Not Email</th>\n",
       "      <th>Do Not Call</th>\n",
       "      <th>Converted</th>\n",
       "      <th>TotalVisits</th>\n",
       "      <th>Total Time Spent on Website</th>\n",
       "      <th>Page Views Per Visit</th>\n",
       "      <th>...</th>\n",
       "      <th>Get updates on DM Content</th>\n",
       "      <th>Lead Profile</th>\n",
       "      <th>City</th>\n",
       "      <th>Asymmetrique Activity Index</th>\n",
       "      <th>Asymmetrique Profile Index</th>\n",
       "      <th>Asymmetrique Activity Score</th>\n",
       "      <th>Asymmetrique Profile Score</th>\n",
       "      <th>I agree to pay the amount through cheque</th>\n",
       "      <th>A free copy of Mastering The Interview</th>\n",
       "      <th>Last Notable Activity</th>\n",
       "    </tr>\n",
       "  </thead>\n",
       "  <tbody>\n",
       "    <tr>\n",
       "      <th>0</th>\n",
       "      <td>7927b2df-8bba-4d29-b9a2-b6e0beafe620</td>\n",
       "      <td>660737</td>\n",
       "      <td>API</td>\n",
       "      <td>Olark Chat</td>\n",
       "      <td>No</td>\n",
       "      <td>No</td>\n",
       "      <td>0</td>\n",
       "      <td>0.0</td>\n",
       "      <td>0</td>\n",
       "      <td>0.0</td>\n",
       "      <td>...</td>\n",
       "      <td>No</td>\n",
       "      <td>Select</td>\n",
       "      <td>Select</td>\n",
       "      <td>02.Medium</td>\n",
       "      <td>02.Medium</td>\n",
       "      <td>15.0</td>\n",
       "      <td>15.0</td>\n",
       "      <td>No</td>\n",
       "      <td>No</td>\n",
       "      <td>Modified</td>\n",
       "    </tr>\n",
       "    <tr>\n",
       "      <th>1</th>\n",
       "      <td>2a272436-5132-4136-86fa-dcc88c88f482</td>\n",
       "      <td>660728</td>\n",
       "      <td>API</td>\n",
       "      <td>Organic Search</td>\n",
       "      <td>No</td>\n",
       "      <td>No</td>\n",
       "      <td>0</td>\n",
       "      <td>5.0</td>\n",
       "      <td>674</td>\n",
       "      <td>2.5</td>\n",
       "      <td>...</td>\n",
       "      <td>No</td>\n",
       "      <td>Select</td>\n",
       "      <td>Select</td>\n",
       "      <td>02.Medium</td>\n",
       "      <td>02.Medium</td>\n",
       "      <td>15.0</td>\n",
       "      <td>15.0</td>\n",
       "      <td>No</td>\n",
       "      <td>No</td>\n",
       "      <td>Email Opened</td>\n",
       "    </tr>\n",
       "    <tr>\n",
       "      <th>2</th>\n",
       "      <td>8cc8c611-a219-4f35-ad23-fdfd2656bd8a</td>\n",
       "      <td>660727</td>\n",
       "      <td>Landing Page Submission</td>\n",
       "      <td>Direct Traffic</td>\n",
       "      <td>No</td>\n",
       "      <td>No</td>\n",
       "      <td>1</td>\n",
       "      <td>2.0</td>\n",
       "      <td>1532</td>\n",
       "      <td>2.0</td>\n",
       "      <td>...</td>\n",
       "      <td>No</td>\n",
       "      <td>Potential Lead</td>\n",
       "      <td>Mumbai</td>\n",
       "      <td>02.Medium</td>\n",
       "      <td>01.High</td>\n",
       "      <td>14.0</td>\n",
       "      <td>20.0</td>\n",
       "      <td>No</td>\n",
       "      <td>Yes</td>\n",
       "      <td>Email Opened</td>\n",
       "    </tr>\n",
       "    <tr>\n",
       "      <th>3</th>\n",
       "      <td>0cc2df48-7cf4-4e39-9de9-19797f9b38cc</td>\n",
       "      <td>660719</td>\n",
       "      <td>Landing Page Submission</td>\n",
       "      <td>Direct Traffic</td>\n",
       "      <td>No</td>\n",
       "      <td>No</td>\n",
       "      <td>0</td>\n",
       "      <td>1.0</td>\n",
       "      <td>305</td>\n",
       "      <td>1.0</td>\n",
       "      <td>...</td>\n",
       "      <td>No</td>\n",
       "      <td>Select</td>\n",
       "      <td>Mumbai</td>\n",
       "      <td>02.Medium</td>\n",
       "      <td>01.High</td>\n",
       "      <td>13.0</td>\n",
       "      <td>17.0</td>\n",
       "      <td>No</td>\n",
       "      <td>No</td>\n",
       "      <td>Modified</td>\n",
       "    </tr>\n",
       "    <tr>\n",
       "      <th>4</th>\n",
       "      <td>3256f628-e534-4826-9d63-4a8b88782852</td>\n",
       "      <td>660681</td>\n",
       "      <td>Landing Page Submission</td>\n",
       "      <td>Google</td>\n",
       "      <td>No</td>\n",
       "      <td>No</td>\n",
       "      <td>1</td>\n",
       "      <td>2.0</td>\n",
       "      <td>1428</td>\n",
       "      <td>1.0</td>\n",
       "      <td>...</td>\n",
       "      <td>No</td>\n",
       "      <td>Select</td>\n",
       "      <td>Mumbai</td>\n",
       "      <td>02.Medium</td>\n",
       "      <td>01.High</td>\n",
       "      <td>15.0</td>\n",
       "      <td>18.0</td>\n",
       "      <td>No</td>\n",
       "      <td>No</td>\n",
       "      <td>Modified</td>\n",
       "    </tr>\n",
       "  </tbody>\n",
       "</table>\n",
       "<p>5 rows × 37 columns</p>\n",
       "</div>"
      ],
      "text/plain": [
       "                            Prospect ID  Lead Number              Lead Origin  \\\n",
       "0  7927b2df-8bba-4d29-b9a2-b6e0beafe620       660737                      API   \n",
       "1  2a272436-5132-4136-86fa-dcc88c88f482       660728                      API   \n",
       "2  8cc8c611-a219-4f35-ad23-fdfd2656bd8a       660727  Landing Page Submission   \n",
       "3  0cc2df48-7cf4-4e39-9de9-19797f9b38cc       660719  Landing Page Submission   \n",
       "4  3256f628-e534-4826-9d63-4a8b88782852       660681  Landing Page Submission   \n",
       "\n",
       "      Lead Source Do Not Email Do Not Call  Converted  TotalVisits  \\\n",
       "0      Olark Chat           No          No          0          0.0   \n",
       "1  Organic Search           No          No          0          5.0   \n",
       "2  Direct Traffic           No          No          1          2.0   \n",
       "3  Direct Traffic           No          No          0          1.0   \n",
       "4          Google           No          No          1          2.0   \n",
       "\n",
       "   Total Time Spent on Website  Page Views Per Visit  ...  \\\n",
       "0                            0                   0.0  ...   \n",
       "1                          674                   2.5  ...   \n",
       "2                         1532                   2.0  ...   \n",
       "3                          305                   1.0  ...   \n",
       "4                         1428                   1.0  ...   \n",
       "\n",
       "  Get updates on DM Content    Lead Profile    City  \\\n",
       "0                        No          Select  Select   \n",
       "1                        No          Select  Select   \n",
       "2                        No  Potential Lead  Mumbai   \n",
       "3                        No          Select  Mumbai   \n",
       "4                        No          Select  Mumbai   \n",
       "\n",
       "  Asymmetrique Activity Index Asymmetrique Profile Index  \\\n",
       "0                   02.Medium                  02.Medium   \n",
       "1                   02.Medium                  02.Medium   \n",
       "2                   02.Medium                    01.High   \n",
       "3                   02.Medium                    01.High   \n",
       "4                   02.Medium                    01.High   \n",
       "\n",
       "  Asymmetrique Activity Score Asymmetrique Profile Score  \\\n",
       "0                        15.0                       15.0   \n",
       "1                        15.0                       15.0   \n",
       "2                        14.0                       20.0   \n",
       "3                        13.0                       17.0   \n",
       "4                        15.0                       18.0   \n",
       "\n",
       "  I agree to pay the amount through cheque  \\\n",
       "0                                       No   \n",
       "1                                       No   \n",
       "2                                       No   \n",
       "3                                       No   \n",
       "4                                       No   \n",
       "\n",
       "  A free copy of Mastering The Interview Last Notable Activity  \n",
       "0                                     No              Modified  \n",
       "1                                     No          Email Opened  \n",
       "2                                    Yes          Email Opened  \n",
       "3                                     No              Modified  \n",
       "4                                     No              Modified  \n",
       "\n",
       "[5 rows x 37 columns]"
      ]
     },
     "execution_count": 244,
     "metadata": {},
     "output_type": "execute_result"
    }
   ],
   "source": [
    "# Importing and inspecting the dataset\n",
    "leads_data = pd.read_csv(\"Leads.csv\")\n",
    "leads_data.head()"
   ]
  },
  {
   "cell_type": "code",
   "execution_count": 245,
   "id": "42a5b99e",
   "metadata": {},
   "outputs": [
    {
     "data": {
      "text/plain": [
       "(9240, 37)"
      ]
     },
     "execution_count": 245,
     "metadata": {},
     "output_type": "execute_result"
    }
   ],
   "source": [
    "# Let's check the dimensions of the dataframe\n",
    "leads_data.shape"
   ]
  },
  {
   "cell_type": "code",
   "execution_count": 246,
   "id": "72ef1abb",
   "metadata": {},
   "outputs": [
    {
     "data": {
      "text/html": [
       "<div>\n",
       "<style scoped>\n",
       "    .dataframe tbody tr th:only-of-type {\n",
       "        vertical-align: middle;\n",
       "    }\n",
       "\n",
       "    .dataframe tbody tr th {\n",
       "        vertical-align: top;\n",
       "    }\n",
       "\n",
       "    .dataframe thead th {\n",
       "        text-align: right;\n",
       "    }\n",
       "</style>\n",
       "<table border=\"1\" class=\"dataframe\">\n",
       "  <thead>\n",
       "    <tr style=\"text-align: right;\">\n",
       "      <th></th>\n",
       "      <th>Lead Number</th>\n",
       "      <th>Converted</th>\n",
       "      <th>TotalVisits</th>\n",
       "      <th>Total Time Spent on Website</th>\n",
       "      <th>Page Views Per Visit</th>\n",
       "      <th>Asymmetrique Activity Score</th>\n",
       "      <th>Asymmetrique Profile Score</th>\n",
       "    </tr>\n",
       "  </thead>\n",
       "  <tbody>\n",
       "    <tr>\n",
       "      <th>count</th>\n",
       "      <td>9240.000000</td>\n",
       "      <td>9240.000000</td>\n",
       "      <td>9103.000000</td>\n",
       "      <td>9240.000000</td>\n",
       "      <td>9103.000000</td>\n",
       "      <td>5022.000000</td>\n",
       "      <td>5022.000000</td>\n",
       "    </tr>\n",
       "    <tr>\n",
       "      <th>mean</th>\n",
       "      <td>617188.435606</td>\n",
       "      <td>0.385390</td>\n",
       "      <td>3.445238</td>\n",
       "      <td>487.698268</td>\n",
       "      <td>2.362820</td>\n",
       "      <td>14.306252</td>\n",
       "      <td>16.344883</td>\n",
       "    </tr>\n",
       "    <tr>\n",
       "      <th>std</th>\n",
       "      <td>23405.995698</td>\n",
       "      <td>0.486714</td>\n",
       "      <td>4.854853</td>\n",
       "      <td>548.021466</td>\n",
       "      <td>2.161418</td>\n",
       "      <td>1.386694</td>\n",
       "      <td>1.811395</td>\n",
       "    </tr>\n",
       "    <tr>\n",
       "      <th>min</th>\n",
       "      <td>579533.000000</td>\n",
       "      <td>0.000000</td>\n",
       "      <td>0.000000</td>\n",
       "      <td>0.000000</td>\n",
       "      <td>0.000000</td>\n",
       "      <td>7.000000</td>\n",
       "      <td>11.000000</td>\n",
       "    </tr>\n",
       "    <tr>\n",
       "      <th>25%</th>\n",
       "      <td>596484.500000</td>\n",
       "      <td>0.000000</td>\n",
       "      <td>1.000000</td>\n",
       "      <td>12.000000</td>\n",
       "      <td>1.000000</td>\n",
       "      <td>14.000000</td>\n",
       "      <td>15.000000</td>\n",
       "    </tr>\n",
       "    <tr>\n",
       "      <th>50%</th>\n",
       "      <td>615479.000000</td>\n",
       "      <td>0.000000</td>\n",
       "      <td>3.000000</td>\n",
       "      <td>248.000000</td>\n",
       "      <td>2.000000</td>\n",
       "      <td>14.000000</td>\n",
       "      <td>16.000000</td>\n",
       "    </tr>\n",
       "    <tr>\n",
       "      <th>75%</th>\n",
       "      <td>637387.250000</td>\n",
       "      <td>1.000000</td>\n",
       "      <td>5.000000</td>\n",
       "      <td>936.000000</td>\n",
       "      <td>3.000000</td>\n",
       "      <td>15.000000</td>\n",
       "      <td>18.000000</td>\n",
       "    </tr>\n",
       "    <tr>\n",
       "      <th>max</th>\n",
       "      <td>660737.000000</td>\n",
       "      <td>1.000000</td>\n",
       "      <td>251.000000</td>\n",
       "      <td>2272.000000</td>\n",
       "      <td>55.000000</td>\n",
       "      <td>18.000000</td>\n",
       "      <td>20.000000</td>\n",
       "    </tr>\n",
       "  </tbody>\n",
       "</table>\n",
       "</div>"
      ],
      "text/plain": [
       "         Lead Number    Converted  TotalVisits  Total Time Spent on Website  \\\n",
       "count    9240.000000  9240.000000  9103.000000                  9240.000000   \n",
       "mean   617188.435606     0.385390     3.445238                   487.698268   \n",
       "std     23405.995698     0.486714     4.854853                   548.021466   \n",
       "min    579533.000000     0.000000     0.000000                     0.000000   \n",
       "25%    596484.500000     0.000000     1.000000                    12.000000   \n",
       "50%    615479.000000     0.000000     3.000000                   248.000000   \n",
       "75%    637387.250000     1.000000     5.000000                   936.000000   \n",
       "max    660737.000000     1.000000   251.000000                  2272.000000   \n",
       "\n",
       "       Page Views Per Visit  Asymmetrique Activity Score  \\\n",
       "count           9103.000000                  5022.000000   \n",
       "mean               2.362820                    14.306252   \n",
       "std                2.161418                     1.386694   \n",
       "min                0.000000                     7.000000   \n",
       "25%                1.000000                    14.000000   \n",
       "50%                2.000000                    14.000000   \n",
       "75%                3.000000                    15.000000   \n",
       "max               55.000000                    18.000000   \n",
       "\n",
       "       Asymmetrique Profile Score  \n",
       "count                 5022.000000  \n",
       "mean                    16.344883  \n",
       "std                      1.811395  \n",
       "min                     11.000000  \n",
       "25%                     15.000000  \n",
       "50%                     16.000000  \n",
       "75%                     18.000000  \n",
       "max                     20.000000  "
      ]
     },
     "execution_count": 246,
     "metadata": {},
     "output_type": "execute_result"
    }
   ],
   "source": [
    "# let's look at the statistical aspects of the dataframe\n",
    "leads_data.describe()"
   ]
  },
  {
   "cell_type": "code",
   "execution_count": 247,
   "id": "a36fcbdc",
   "metadata": {},
   "outputs": [
    {
     "name": "stdout",
     "output_type": "stream",
     "text": [
      "<class 'pandas.core.frame.DataFrame'>\n",
      "RangeIndex: 9240 entries, 0 to 9239\n",
      "Data columns (total 37 columns):\n",
      " #   Column                                         Non-Null Count  Dtype  \n",
      "---  ------                                         --------------  -----  \n",
      " 0   Prospect ID                                    9240 non-null   object \n",
      " 1   Lead Number                                    9240 non-null   int64  \n",
      " 2   Lead Origin                                    9240 non-null   object \n",
      " 3   Lead Source                                    9204 non-null   object \n",
      " 4   Do Not Email                                   9240 non-null   object \n",
      " 5   Do Not Call                                    9240 non-null   object \n",
      " 6   Converted                                      9240 non-null   int64  \n",
      " 7   TotalVisits                                    9103 non-null   float64\n",
      " 8   Total Time Spent on Website                    9240 non-null   int64  \n",
      " 9   Page Views Per Visit                           9103 non-null   float64\n",
      " 10  Last Activity                                  9137 non-null   object \n",
      " 11  Country                                        6779 non-null   object \n",
      " 12  Specialization                                 7802 non-null   object \n",
      " 13  How did you hear about X Education             7033 non-null   object \n",
      " 14  What is your current occupation                6550 non-null   object \n",
      " 15  What matters most to you in choosing a course  6531 non-null   object \n",
      " 16  Search                                         9240 non-null   object \n",
      " 17  Magazine                                       9240 non-null   object \n",
      " 18  Newspaper Article                              9240 non-null   object \n",
      " 19  X Education Forums                             9240 non-null   object \n",
      " 20  Newspaper                                      9240 non-null   object \n",
      " 21  Digital Advertisement                          9240 non-null   object \n",
      " 22  Through Recommendations                        9240 non-null   object \n",
      " 23  Receive More Updates About Our Courses         9240 non-null   object \n",
      " 24  Tags                                           5887 non-null   object \n",
      " 25  Lead Quality                                   4473 non-null   object \n",
      " 26  Update me on Supply Chain Content              9240 non-null   object \n",
      " 27  Get updates on DM Content                      9240 non-null   object \n",
      " 28  Lead Profile                                   6531 non-null   object \n",
      " 29  City                                           7820 non-null   object \n",
      " 30  Asymmetrique Activity Index                    5022 non-null   object \n",
      " 31  Asymmetrique Profile Index                     5022 non-null   object \n",
      " 32  Asymmetrique Activity Score                    5022 non-null   float64\n",
      " 33  Asymmetrique Profile Score                     5022 non-null   float64\n",
      " 34  I agree to pay the amount through cheque       9240 non-null   object \n",
      " 35  A free copy of Mastering The Interview         9240 non-null   object \n",
      " 36  Last Notable Activity                          9240 non-null   object \n",
      "dtypes: float64(4), int64(3), object(30)\n",
      "memory usage: 2.6+ MB\n"
     ]
    }
   ],
   "source": [
    "# Let's see the type of each column\n",
    "leads_data.info()"
   ]
  },
  {
   "cell_type": "code",
   "execution_count": 248,
   "id": "80c6b35c",
   "metadata": {},
   "outputs": [
    {
     "name": "stdout",
     "output_type": "stream",
     "text": [
      "column name : Prospect ID :  no of unique values --> 9240\n",
      "\n",
      "Prospect ID\n",
      "000104b9-23e4-4ddc-8caa-8629fe8ad7f4    1\n",
      "0006d10a-eb01-4ba9-92e2-ad78588b2a40    1\n",
      "0011be30-fa97-465b-8e44-0ae83dff7eed    1\n",
      "0011f23e-9fd9-4256-b316-efc2e2639b0d    1\n",
      "001b0ad3-9096-4af8-8205-912f5c6dafd8    1\n",
      "                                       ..\n",
      "ffec8e24-0c99-4345-89f1-e3ad6689764f    1\n",
      "fff076a3-fe95-4c79-9401-e15846be8086    1\n",
      "fff49ad0-6015-448c-a7cc-f454c39ffdda    1\n",
      "fff4f056-6574-4f97-b85a-ea4198a2915b    1\n",
      "fffb0e5e-9f92-4017-9f42-781a69da4154    1\n",
      "Name: count, Length: 9240, dtype: int64\n",
      "---------------------------------------------\n",
      "\n",
      "\n",
      "column name : Lead Number :  no of unique values --> 9240\n",
      "\n",
      "Lead Number\n",
      "579533    1\n",
      "579538    1\n",
      "579545    1\n",
      "579546    1\n",
      "579564    1\n",
      "         ..\n",
      "660681    1\n",
      "660719    1\n",
      "660727    1\n",
      "660728    1\n",
      "660737    1\n",
      "Name: count, Length: 9240, dtype: int64\n",
      "---------------------------------------------\n",
      "\n",
      "\n",
      "column name : Lead Origin :  no of unique values --> 5\n",
      "\n",
      "Lead Origin\n",
      "API                        3580\n",
      "Landing Page Submission    4886\n",
      "Lead Add Form               718\n",
      "Lead Import                  55\n",
      "Quick Add Form                1\n",
      "Name: count, dtype: int64\n",
      "---------------------------------------------\n",
      "\n",
      "\n",
      "column name : Lead Source :  no of unique values --> 21\n",
      "\n",
      "Lead Source\n",
      "Click2call              4\n",
      "Direct Traffic       2543\n",
      "Facebook               55\n",
      "Google               2868\n",
      "Live Chat               2\n",
      "NC_EDM                  1\n",
      "Olark Chat           1755\n",
      "Organic Search       1154\n",
      "Pay per Click Ads       1\n",
      "Press_Release           2\n",
      "Reference             534\n",
      "Referral Sites        125\n",
      "Social Media            2\n",
      "WeLearn                 1\n",
      "Welingak Website      142\n",
      "bing                    6\n",
      "blog                    1\n",
      "google                  5\n",
      "testone                 1\n",
      "welearnblog_Home        1\n",
      "youtubechannel          1\n",
      "Name: count, dtype: int64\n",
      "---------------------------------------------\n",
      "\n",
      "\n",
      "column name : Do Not Email :  no of unique values --> 2\n",
      "\n",
      "Do Not Email\n",
      "No     8506\n",
      "Yes     734\n",
      "Name: count, dtype: int64\n",
      "---------------------------------------------\n",
      "\n",
      "\n",
      "column name : Do Not Call :  no of unique values --> 2\n",
      "\n",
      "Do Not Call\n",
      "No     9238\n",
      "Yes       2\n",
      "Name: count, dtype: int64\n",
      "---------------------------------------------\n",
      "\n",
      "\n",
      "column name : Converted :  no of unique values --> 2\n",
      "\n",
      "Converted\n",
      "0    5679\n",
      "1    3561\n",
      "Name: count, dtype: int64\n",
      "---------------------------------------------\n",
      "\n",
      "\n",
      "column name : TotalVisits :  no of unique values --> 41\n",
      "\n",
      "TotalVisits\n",
      "0.0      2189\n",
      "1.0       395\n",
      "2.0      1680\n",
      "3.0      1306\n",
      "4.0      1120\n",
      "5.0       783\n",
      "6.0       466\n",
      "7.0       309\n",
      "8.0       224\n",
      "9.0       164\n",
      "10.0      114\n",
      "11.0       86\n",
      "12.0       45\n",
      "13.0       48\n",
      "14.0       36\n",
      "15.0       18\n",
      "16.0       21\n",
      "17.0       16\n",
      "18.0       15\n",
      "19.0        9\n",
      "20.0       12\n",
      "21.0        6\n",
      "22.0        3\n",
      "23.0        6\n",
      "24.0        5\n",
      "25.0        5\n",
      "26.0        2\n",
      "27.0        5\n",
      "28.0        2\n",
      "29.0        2\n",
      "30.0        1\n",
      "32.0        1\n",
      "41.0        1\n",
      "42.0        1\n",
      "43.0        1\n",
      "54.0        1\n",
      "55.0        1\n",
      "74.0        1\n",
      "115.0       1\n",
      "141.0       1\n",
      "251.0       1\n",
      "Name: count, dtype: int64\n",
      "---------------------------------------------\n",
      "\n",
      "\n",
      "column name : Total Time Spent on Website :  no of unique values --> 1731\n",
      "\n",
      "Total Time Spent on Website\n",
      "0       2193\n",
      "1          7\n",
      "2         14\n",
      "3          9\n",
      "4         10\n",
      "        ... \n",
      "2207       1\n",
      "2217       1\n",
      "2226       1\n",
      "2253       1\n",
      "2272       1\n",
      "Name: count, Length: 1731, dtype: int64\n",
      "---------------------------------------------\n",
      "\n",
      "\n",
      "column name : Page Views Per Visit :  no of unique values --> 114\n",
      "\n",
      "Page Views Per Visit\n",
      "0.00     2189\n",
      "1.00      651\n",
      "1.14        2\n",
      "1.17        1\n",
      "1.19        1\n",
      "         ... \n",
      "14.50       1\n",
      "15.00       4\n",
      "16.00       3\n",
      "24.00       1\n",
      "55.00       1\n",
      "Name: count, Length: 114, dtype: int64\n",
      "---------------------------------------------\n",
      "\n",
      "\n",
      "column name : Last Activity :  no of unique values --> 17\n",
      "\n",
      "Last Activity\n",
      "Approached upfront                 9\n",
      "Converted to Lead                428\n",
      "Email Bounced                    326\n",
      "Email Link Clicked               267\n",
      "Email Marked Spam                  2\n",
      "Email Opened                    3437\n",
      "Email Received                     2\n",
      "Form Submitted on Website        116\n",
      "Had a Phone Conversation          30\n",
      "Olark Chat Conversation          973\n",
      "Page Visited on Website          640\n",
      "Resubscribed to emails             1\n",
      "SMS Sent                        2745\n",
      "Unreachable                       93\n",
      "Unsubscribed                      61\n",
      "View in browser link Clicked       6\n",
      "Visited Booth in Tradeshow         1\n",
      "Name: count, dtype: int64\n",
      "---------------------------------------------\n",
      "\n",
      "\n",
      "column name : Country :  no of unique values --> 38\n",
      "\n",
      "Country\n",
      "Asia/Pacific Region        2\n",
      "Australia                 13\n",
      "Bahrain                    7\n",
      "Bangladesh                 2\n",
      "Belgium                    2\n",
      "Canada                     4\n",
      "China                      2\n",
      "Denmark                    1\n",
      "France                     6\n",
      "Germany                    4\n",
      "Ghana                      2\n",
      "Hong Kong                  7\n",
      "India                   6492\n",
      "Indonesia                  1\n",
      "Italy                      2\n",
      "Kenya                      1\n",
      "Kuwait                     4\n",
      "Liberia                    1\n",
      "Malaysia                   1\n",
      "Netherlands                2\n",
      "Nigeria                    4\n",
      "Oman                       6\n",
      "Philippines                2\n",
      "Qatar                     10\n",
      "Russia                     1\n",
      "Saudi Arabia              21\n",
      "Singapore                 24\n",
      "South Africa               4\n",
      "Sri Lanka                  1\n",
      "Sweden                     3\n",
      "Switzerland                1\n",
      "Tanzania                   1\n",
      "Uganda                     2\n",
      "United Arab Emirates      53\n",
      "United Kingdom            15\n",
      "United States             69\n",
      "Vietnam                    1\n",
      "unknown                    5\n",
      "Name: count, dtype: int64\n",
      "---------------------------------------------\n",
      "\n",
      "\n",
      "column name : Specialization :  no of unique values --> 19\n",
      "\n",
      "Specialization\n",
      "Banking, Investment And Insurance     338\n",
      "Business Administration               403\n",
      "E-Business                             57\n",
      "E-COMMERCE                            112\n",
      "Finance Management                    976\n",
      "Healthcare Management                 159\n",
      "Hospitality Management                114\n",
      "Human Resource Management             848\n",
      "IT Projects Management                366\n",
      "International Business                178\n",
      "Marketing Management                  838\n",
      "Media and Advertising                 203\n",
      "Operations Management                 503\n",
      "Retail Management                     100\n",
      "Rural and Agribusiness                 73\n",
      "Select                               1942\n",
      "Services Excellence                    40\n",
      "Supply Chain Management               349\n",
      "Travel and Tourism                    203\n",
      "Name: count, dtype: int64\n",
      "---------------------------------------------\n",
      "\n",
      "\n",
      "column name : How did you hear about X Education :  no of unique values --> 10\n",
      "\n",
      "How did you hear about X Education\n",
      "Advertisements             70\n",
      "Email                      26\n",
      "Multiple Sources          152\n",
      "Online Search             808\n",
      "Other                     186\n",
      "SMS                        23\n",
      "Select                   5043\n",
      "Social Media               67\n",
      "Student of SomeSchool     310\n",
      "Word Of Mouth             348\n",
      "Name: count, dtype: int64\n",
      "---------------------------------------------\n",
      "\n",
      "\n",
      "column name : What is your current occupation :  no of unique values --> 6\n",
      "\n",
      "What is your current occupation\n",
      "Businessman                8\n",
      "Housewife                 10\n",
      "Other                     16\n",
      "Student                  210\n",
      "Unemployed              5600\n",
      "Working Professional     706\n",
      "Name: count, dtype: int64\n",
      "---------------------------------------------\n",
      "\n",
      "\n",
      "column name : What matters most to you in choosing a course :  no of unique values --> 3\n",
      "\n",
      "What matters most to you in choosing a course\n",
      "Better Career Prospects      6528\n",
      "Flexibility & Convenience       2\n",
      "Other                           1\n",
      "Name: count, dtype: int64\n",
      "---------------------------------------------\n",
      "\n",
      "\n",
      "column name : Search :  no of unique values --> 2\n",
      "\n",
      "Search\n",
      "No     9226\n",
      "Yes      14\n",
      "Name: count, dtype: int64\n",
      "---------------------------------------------\n",
      "\n",
      "\n",
      "column name : Magazine :  no of unique values --> 1\n",
      "\n",
      "Magazine\n",
      "No    9240\n",
      "Name: count, dtype: int64\n",
      "---------------------------------------------\n",
      "\n",
      "\n",
      "column name : Newspaper Article :  no of unique values --> 2\n",
      "\n",
      "Newspaper Article\n",
      "No     9238\n",
      "Yes       2\n",
      "Name: count, dtype: int64\n",
      "---------------------------------------------\n",
      "\n",
      "\n",
      "column name : X Education Forums :  no of unique values --> 2\n",
      "\n",
      "X Education Forums\n",
      "No     9239\n",
      "Yes       1\n",
      "Name: count, dtype: int64\n",
      "---------------------------------------------\n",
      "\n",
      "\n",
      "column name : Newspaper :  no of unique values --> 2\n",
      "\n",
      "Newspaper\n",
      "No     9239\n",
      "Yes       1\n",
      "Name: count, dtype: int64\n",
      "---------------------------------------------\n",
      "\n",
      "\n",
      "column name : Digital Advertisement :  no of unique values --> 2\n",
      "\n",
      "Digital Advertisement\n",
      "No     9236\n",
      "Yes       4\n",
      "Name: count, dtype: int64\n",
      "---------------------------------------------\n",
      "\n",
      "\n",
      "column name : Through Recommendations :  no of unique values --> 2\n",
      "\n",
      "Through Recommendations\n",
      "No     9233\n",
      "Yes       7\n",
      "Name: count, dtype: int64\n",
      "---------------------------------------------\n",
      "\n",
      "\n",
      "column name : Receive More Updates About Our Courses :  no of unique values --> 1\n",
      "\n",
      "Receive More Updates About Our Courses\n",
      "No    9240\n",
      "Name: count, dtype: int64\n",
      "---------------------------------------------\n",
      "\n",
      "\n",
      "column name : Tags :  no of unique values --> 26\n",
      "\n",
      "Tags\n",
      "Already a student                                     465\n",
      "Busy                                                  186\n",
      "Closed by Horizzon                                    358\n",
      "Diploma holder (Not Eligible)                          63\n",
      "Graduation in progress                                111\n",
      "In confusion whether part time or DLP                   5\n",
      "Interested  in full time MBA                          117\n",
      "Interested in Next batch                                5\n",
      "Interested in other courses                           513\n",
      "Lateral student                                         3\n",
      "Lost to EINS                                          175\n",
      "Lost to Others                                          7\n",
      "Not doing further education                           145\n",
      "Recognition issue (DEC approval)                        1\n",
      "Ringing                                              1203\n",
      "Shall take in the next coming month                     2\n",
      "Still Thinking                                          6\n",
      "University not recognized                               2\n",
      "Want to take admission but has financial problems       6\n",
      "Will revert after reading the email                  2072\n",
      "in touch with EINS                                     12\n",
      "invalid number                                         83\n",
      "number not provided                                    27\n",
      "opp hangup                                             33\n",
      "switched off                                          240\n",
      "wrong number given                                     47\n",
      "Name: count, dtype: int64\n",
      "---------------------------------------------\n",
      "\n",
      "\n",
      "column name : Lead Quality :  no of unique values --> 5\n",
      "\n",
      "Lead Quality\n",
      "High in Relevance     637\n",
      "Low in Relevance      583\n",
      "Might be             1560\n",
      "Not Sure             1092\n",
      "Worst                 601\n",
      "Name: count, dtype: int64\n",
      "---------------------------------------------\n",
      "\n",
      "\n",
      "column name : Update me on Supply Chain Content :  no of unique values --> 1\n",
      "\n",
      "Update me on Supply Chain Content\n",
      "No    9240\n",
      "Name: count, dtype: int64\n",
      "---------------------------------------------\n",
      "\n",
      "\n",
      "column name : Get updates on DM Content :  no of unique values --> 1\n",
      "\n",
      "Get updates on DM Content\n",
      "No    9240\n",
      "Name: count, dtype: int64\n",
      "---------------------------------------------\n",
      "\n",
      "\n",
      "column name : Lead Profile :  no of unique values --> 6\n",
      "\n",
      "Lead Profile\n",
      "Dual Specialization Student      20\n",
      "Lateral Student                  24\n",
      "Other Leads                     487\n",
      "Potential Lead                 1613\n",
      "Select                         4146\n",
      "Student of SomeSchool           241\n",
      "Name: count, dtype: int64\n",
      "---------------------------------------------\n",
      "\n",
      "\n",
      "column name : City :  no of unique values --> 7\n",
      "\n",
      "City\n",
      "Mumbai                         3222\n",
      "Other Cities                    686\n",
      "Other Cities of Maharashtra     457\n",
      "Other Metro Cities              380\n",
      "Select                         2249\n",
      "Thane & Outskirts               752\n",
      "Tier II Cities                   74\n",
      "Name: count, dtype: int64\n",
      "---------------------------------------------\n",
      "\n",
      "\n",
      "column name : Asymmetrique Activity Index :  no of unique values --> 3\n",
      "\n",
      "Asymmetrique Activity Index\n",
      "01.High       821\n",
      "02.Medium    3839\n",
      "03.Low        362\n",
      "Name: count, dtype: int64\n",
      "---------------------------------------------\n",
      "\n",
      "\n",
      "column name : Asymmetrique Profile Index :  no of unique values --> 3\n",
      "\n",
      "Asymmetrique Profile Index\n",
      "01.High      2203\n",
      "02.Medium    2788\n",
      "03.Low         31\n",
      "Name: count, dtype: int64\n",
      "---------------------------------------------\n",
      "\n",
      "\n",
      "column name : Asymmetrique Activity Score :  no of unique values --> 12\n",
      "\n",
      "Asymmetrique Activity Score\n",
      "7.0        1\n",
      "8.0        4\n",
      "9.0        9\n",
      "10.0      57\n",
      "11.0      95\n",
      "12.0     196\n",
      "13.0     775\n",
      "14.0    1771\n",
      "15.0    1293\n",
      "16.0     467\n",
      "17.0     349\n",
      "18.0       5\n",
      "Name: count, dtype: int64\n",
      "---------------------------------------------\n",
      "\n",
      "\n",
      "column name : Asymmetrique Profile Score :  no of unique values --> 10\n",
      "\n",
      "Asymmetrique Profile Score\n",
      "11.0       9\n",
      "12.0      22\n",
      "13.0     204\n",
      "14.0     226\n",
      "15.0    1759\n",
      "16.0     599\n",
      "17.0     579\n",
      "18.0    1071\n",
      "19.0     245\n",
      "20.0     308\n",
      "Name: count, dtype: int64\n",
      "---------------------------------------------\n",
      "\n",
      "\n",
      "column name : I agree to pay the amount through cheque :  no of unique values --> 1\n",
      "\n",
      "I agree to pay the amount through cheque\n",
      "No    9240\n",
      "Name: count, dtype: int64\n",
      "---------------------------------------------\n",
      "\n",
      "\n",
      "column name : A free copy of Mastering The Interview :  no of unique values --> 2\n",
      "\n",
      "A free copy of Mastering The Interview\n",
      "No     6352\n",
      "Yes    2888\n",
      "Name: count, dtype: int64\n",
      "---------------------------------------------\n",
      "\n",
      "\n",
      "column name : Last Notable Activity :  no of unique values --> 16\n",
      "\n",
      "Last Notable Activity\n",
      "Approached upfront                 1\n",
      "Email Bounced                     60\n",
      "Email Link Clicked               173\n",
      "Email Marked Spam                  2\n",
      "Email Opened                    2827\n",
      "Email Received                     1\n",
      "Form Submitted on Website          1\n",
      "Had a Phone Conversation          14\n",
      "Modified                        3407\n",
      "Olark Chat Conversation          183\n",
      "Page Visited on Website          318\n",
      "Resubscribed to emails             1\n",
      "SMS Sent                        2172\n",
      "Unreachable                       32\n",
      "Unsubscribed                      47\n",
      "View in browser link Clicked       1\n",
      "Name: count, dtype: int64\n",
      "---------------------------------------------\n",
      "\n",
      "\n"
     ]
    }
   ],
   "source": [
    "# checking the number of unique values in all the cols. If a column has 90% or more the one single value we delete that column.\n",
    "for cols in leads_data.columns:\n",
    "    print(f\"column name : {cols} :  no of unique values --> {leads_data[cols].nunique()}\\n\")\n",
    "    print(leads_data[cols].value_counts().sort_index())\n",
    "    print(\"---------------------------------------------\\n\\n\")\n",
    "    "
   ]
  },
  {
   "cell_type": "code",
   "execution_count": 249,
   "id": "d779234e",
   "metadata": {},
   "outputs": [],
   "source": [
    "# removing columns of no significant importance\n",
    "leads_data.drop(columns=['Prospect ID','Do Not Email','Do Not Call','What matters most to you in choosing a course',\n",
    "                                    'Search','Magazine','Newspaper Article','X Education Forums','Newspaper','Digital Advertisement',\n",
    "                                   'Through Recommendations','Receive More Updates About Our Courses','Update me on Supply Chain Content',\n",
    "                                    'Get updates on DM Content','I agree to pay the amount through cheque'],inplace=True,axis=1)\n",
    "\n",
    "# we delete the 'Prospect ID' column also since it is of no use in the analysis"
   ]
  },
  {
   "cell_type": "code",
   "execution_count": 250,
   "id": "bee0bb83",
   "metadata": {},
   "outputs": [],
   "source": [
    "# replacing the value 'Select' as a missing value in cols\n",
    "leads_data.City.replace('Select',np.nan,inplace=True)\n",
    "leads_data.Specialization.replace('Select',np.nan,inplace=True)\n",
    "leads_data['How did you hear about X Education'].replace('Select',np.nan,inplace=True)\n",
    "leads_data['Lead Profile'].replace('Select',np.nan,inplace=True)"
   ]
  },
  {
   "cell_type": "code",
   "execution_count": 251,
   "id": "0b141b50",
   "metadata": {},
   "outputs": [
    {
     "data": {
      "text/plain": [
       "How did you hear about X Education        78.463203\n",
       "Lead Profile                              74.188312\n",
       "Lead Quality                              51.590909\n",
       "Asymmetrique Activity Index               45.649351\n",
       "Asymmetrique Profile Index                45.649351\n",
       "Asymmetrique Activity Score               45.649351\n",
       "Asymmetrique Profile Score                45.649351\n",
       "City                                      39.707792\n",
       "Specialization                            36.580087\n",
       "Tags                                      36.287879\n",
       "What is your current occupation           29.112554\n",
       "Country                                   26.634199\n",
       "Page Views Per Visit                       1.482684\n",
       "TotalVisits                                1.482684\n",
       "Last Activity                              1.114719\n",
       "Lead Source                                0.389610\n",
       "Lead Number                                0.000000\n",
       "Lead Origin                                0.000000\n",
       "Total Time Spent on Website                0.000000\n",
       "Converted                                  0.000000\n",
       "A free copy of Mastering The Interview     0.000000\n",
       "Last Notable Activity                      0.000000\n",
       "dtype: float64"
      ]
     },
     "execution_count": 251,
     "metadata": {},
     "output_type": "execute_result"
    }
   ],
   "source": [
    "# Calculating percentage of null values in all the remaining cols\n",
    "(100*leads_data.isnull().mean()).sort_values(ascending=False)"
   ]
  },
  {
   "cell_type": "code",
   "execution_count": 252,
   "id": "90fedc6c",
   "metadata": {},
   "outputs": [],
   "source": [
    "# Dropping columns with missing values more than or equal to 35%\n",
    "leads_data.drop(columns=['How did you hear about X Education','Lead Profile','Lead Quality','Asymmetrique Profile Score','Asymmetrique Profile Index',\n",
    "                         'Asymmetrique Activity Index','Asymmetrique Activity Score','City','Tags','Specialization'],axis=1,inplace=True)"
   ]
  },
  {
   "cell_type": "code",
   "execution_count": 253,
   "id": "38254efd",
   "metadata": {},
   "outputs": [
    {
     "name": "stdout",
     "output_type": "stream",
     "text": [
      "<class 'pandas.core.frame.DataFrame'>\n",
      "RangeIndex: 9240 entries, 0 to 9239\n",
      "Data columns (total 2 columns):\n",
      " #   Column                           Non-Null Count  Dtype \n",
      "---  ------                           --------------  ----- \n",
      " 0   What is your current occupation  6550 non-null   object\n",
      " 1   Country                          6779 non-null   object\n",
      "dtypes: object(2)\n",
      "memory usage: 144.5+ KB\n"
     ]
    }
   ],
   "source": [
    "# Missing values in columns 'What is your current occupation','Country' should be replaced by the mean, median or \n",
    "# mode value whichever applicable\n",
    "leads_data[['What is your current occupation','Country']].info()"
   ]
  },
  {
   "cell_type": "markdown",
   "id": "c85dc830",
   "metadata": {},
   "source": [
    "Since both the above columns are of object type , we need to replace the missing values in these columns by their respective mode value"
   ]
  },
  {
   "cell_type": "code",
   "execution_count": 254,
   "id": "02816c27",
   "metadata": {},
   "outputs": [],
   "source": [
    "cols_wid_missingvalues=['What is your current occupation','Country']"
   ]
  },
  {
   "cell_type": "code",
   "execution_count": 255,
   "id": "ffb19a93",
   "metadata": {},
   "outputs": [],
   "source": [
    "# replacing the missing values with modes of the respective cols\n",
    "for i in cols_wid_missingvalues:\n",
    "    leads_data[i].fillna(leads_data[i].mode()[0],axis=0,inplace=True)"
   ]
  },
  {
   "cell_type": "code",
   "execution_count": 256,
   "id": "5df01c7e",
   "metadata": {},
   "outputs": [],
   "source": [
    "# dropping rows in columns where missing value percentage is too low\n",
    "leads_data.dropna(subset=['Page Views Per Visit','TotalVisits','Last Activity','Lead Source'],axis=0,inplace=True)"
   ]
  },
  {
   "cell_type": "code",
   "execution_count": 257,
   "id": "85a23b99",
   "metadata": {},
   "outputs": [
    {
     "data": {
      "text/plain": [
       "Lead Number                               0.0\n",
       "Lead Origin                               0.0\n",
       "Lead Source                               0.0\n",
       "Converted                                 0.0\n",
       "TotalVisits                               0.0\n",
       "Total Time Spent on Website               0.0\n",
       "Page Views Per Visit                      0.0\n",
       "Last Activity                             0.0\n",
       "Country                                   0.0\n",
       "What is your current occupation           0.0\n",
       "A free copy of Mastering The Interview    0.0\n",
       "Last Notable Activity                     0.0\n",
       "dtype: float64"
      ]
     },
     "execution_count": 257,
     "metadata": {},
     "output_type": "execute_result"
    }
   ],
   "source": [
    "# checking missing values again in cols\n",
    "100*(leads_data.isnull().mean())"
   ]
  },
  {
   "cell_type": "markdown",
   "id": "cd84f9e0",
   "metadata": {},
   "source": [
    "Now there are no missing values in the dataset. "
   ]
  },
  {
   "cell_type": "code",
   "execution_count": 258,
   "id": "5269fd19",
   "metadata": {},
   "outputs": [
    {
     "data": {
      "text/plain": [
       "(9074, 12)"
      ]
     },
     "execution_count": 258,
     "metadata": {},
     "output_type": "execute_result"
    }
   ],
   "source": [
    "# checking shape of the dataframe\n",
    "leads_data.shape"
   ]
  },
  {
   "cell_type": "markdown",
   "id": "ee0c2e84",
   "metadata": {},
   "source": [
    "#### Converting the binary variables (Yes/No) to 0/1"
   ]
  },
  {
   "cell_type": "code",
   "execution_count": 259,
   "id": "adb6eacd",
   "metadata": {},
   "outputs": [],
   "source": [
    "# Applying a binary map function\n",
    "leads_data['A free copy of Mastering The Interview'] = leads_data['A free copy of Mastering The Interview'].map({'Yes': 1, \"No\": 0}).astype('object')"
   ]
  },
  {
   "cell_type": "code",
   "execution_count": 260,
   "id": "4d61ee71",
   "metadata": {},
   "outputs": [
    {
     "name": "stdout",
     "output_type": "stream",
     "text": [
      "Index(['Lead Number', 'Lead Origin', 'Lead Source', 'Converted', 'TotalVisits',\n",
      "       'Total Time Spent on Website', 'Page Views Per Visit', 'Last Activity',\n",
      "       'Country', 'What is your current occupation',\n",
      "       'A free copy of Mastering The Interview', 'Last Notable Activity'],\n",
      "      dtype='object')\n"
     ]
    }
   ],
   "source": [
    "print(leads_data.columns)"
   ]
  },
  {
   "cell_type": "code",
   "execution_count": 261,
   "id": "5ccd1b03",
   "metadata": {},
   "outputs": [],
   "source": [
    "# renaming the column names\n",
    "leads_data.rename(columns={'Total Time Spent on Website':'Web_Time','Page Views Per Visit':'Page_Views','What is your current occupation':'Occupation',\n",
    "                           'A free copy of Mastering The Interview':'Interview_Copy','Last Notable Activity':'Last_Notable_Act'},inplace=True)"
   ]
  },
  {
   "cell_type": "code",
   "execution_count": 262,
   "id": "f538c9ec",
   "metadata": {},
   "outputs": [
    {
     "data": {
      "text/html": [
       "<div>\n",
       "<style scoped>\n",
       "    .dataframe tbody tr th:only-of-type {\n",
       "        vertical-align: middle;\n",
       "    }\n",
       "\n",
       "    .dataframe tbody tr th {\n",
       "        vertical-align: top;\n",
       "    }\n",
       "\n",
       "    .dataframe thead th {\n",
       "        text-align: right;\n",
       "    }\n",
       "</style>\n",
       "<table border=\"1\" class=\"dataframe\">\n",
       "  <thead>\n",
       "    <tr style=\"text-align: right;\">\n",
       "      <th></th>\n",
       "      <th>Lead Number</th>\n",
       "      <th>Lead Origin</th>\n",
       "      <th>Lead Source</th>\n",
       "      <th>Converted</th>\n",
       "      <th>TotalVisits</th>\n",
       "      <th>Web_Time</th>\n",
       "      <th>Page_Views</th>\n",
       "      <th>Last Activity</th>\n",
       "      <th>Country</th>\n",
       "      <th>Occupation</th>\n",
       "      <th>Interview_Copy</th>\n",
       "      <th>Last_Notable_Act</th>\n",
       "    </tr>\n",
       "  </thead>\n",
       "  <tbody>\n",
       "    <tr>\n",
       "      <th>0</th>\n",
       "      <td>660737</td>\n",
       "      <td>API</td>\n",
       "      <td>Olark Chat</td>\n",
       "      <td>0</td>\n",
       "      <td>0.0</td>\n",
       "      <td>0</td>\n",
       "      <td>0.0</td>\n",
       "      <td>Page Visited on Website</td>\n",
       "      <td>India</td>\n",
       "      <td>Unemployed</td>\n",
       "      <td>0</td>\n",
       "      <td>Modified</td>\n",
       "    </tr>\n",
       "    <tr>\n",
       "      <th>1</th>\n",
       "      <td>660728</td>\n",
       "      <td>API</td>\n",
       "      <td>Organic Search</td>\n",
       "      <td>0</td>\n",
       "      <td>5.0</td>\n",
       "      <td>674</td>\n",
       "      <td>2.5</td>\n",
       "      <td>Email Opened</td>\n",
       "      <td>India</td>\n",
       "      <td>Unemployed</td>\n",
       "      <td>0</td>\n",
       "      <td>Email Opened</td>\n",
       "    </tr>\n",
       "    <tr>\n",
       "      <th>2</th>\n",
       "      <td>660727</td>\n",
       "      <td>Landing Page Submission</td>\n",
       "      <td>Direct Traffic</td>\n",
       "      <td>1</td>\n",
       "      <td>2.0</td>\n",
       "      <td>1532</td>\n",
       "      <td>2.0</td>\n",
       "      <td>Email Opened</td>\n",
       "      <td>India</td>\n",
       "      <td>Student</td>\n",
       "      <td>1</td>\n",
       "      <td>Email Opened</td>\n",
       "    </tr>\n",
       "    <tr>\n",
       "      <th>3</th>\n",
       "      <td>660719</td>\n",
       "      <td>Landing Page Submission</td>\n",
       "      <td>Direct Traffic</td>\n",
       "      <td>0</td>\n",
       "      <td>1.0</td>\n",
       "      <td>305</td>\n",
       "      <td>1.0</td>\n",
       "      <td>Unreachable</td>\n",
       "      <td>India</td>\n",
       "      <td>Unemployed</td>\n",
       "      <td>0</td>\n",
       "      <td>Modified</td>\n",
       "    </tr>\n",
       "    <tr>\n",
       "      <th>4</th>\n",
       "      <td>660681</td>\n",
       "      <td>Landing Page Submission</td>\n",
       "      <td>Google</td>\n",
       "      <td>1</td>\n",
       "      <td>2.0</td>\n",
       "      <td>1428</td>\n",
       "      <td>1.0</td>\n",
       "      <td>Converted to Lead</td>\n",
       "      <td>India</td>\n",
       "      <td>Unemployed</td>\n",
       "      <td>0</td>\n",
       "      <td>Modified</td>\n",
       "    </tr>\n",
       "  </tbody>\n",
       "</table>\n",
       "</div>"
      ],
      "text/plain": [
       "   Lead Number              Lead Origin     Lead Source  Converted  \\\n",
       "0       660737                      API      Olark Chat          0   \n",
       "1       660728                      API  Organic Search          0   \n",
       "2       660727  Landing Page Submission  Direct Traffic          1   \n",
       "3       660719  Landing Page Submission  Direct Traffic          0   \n",
       "4       660681  Landing Page Submission          Google          1   \n",
       "\n",
       "   TotalVisits  Web_Time  Page_Views            Last Activity Country  \\\n",
       "0          0.0         0         0.0  Page Visited on Website   India   \n",
       "1          5.0       674         2.5             Email Opened   India   \n",
       "2          2.0      1532         2.0             Email Opened   India   \n",
       "3          1.0       305         1.0              Unreachable   India   \n",
       "4          2.0      1428         1.0        Converted to Lead   India   \n",
       "\n",
       "   Occupation Interview_Copy Last_Notable_Act  \n",
       "0  Unemployed              0         Modified  \n",
       "1  Unemployed              0     Email Opened  \n",
       "2     Student              1     Email Opened  \n",
       "3  Unemployed              0         Modified  \n",
       "4  Unemployed              0         Modified  "
      ]
     },
     "execution_count": 262,
     "metadata": {},
     "output_type": "execute_result"
    }
   ],
   "source": [
    "leads_data.head()"
   ]
  },
  {
   "cell_type": "code",
   "execution_count": 263,
   "id": "191f2dae",
   "metadata": {},
   "outputs": [],
   "source": [
    "# dropping some more insignificant columns\n",
    "leads_data.drop(columns=['Last_Notable_Act'],axis=1,inplace=True)"
   ]
  },
  {
   "cell_type": "code",
   "execution_count": 264,
   "id": "989eea99",
   "metadata": {},
   "outputs": [],
   "source": [
    "leads_data=leads_data[['Lead Number','Lead Origin', 'Lead Source', 'TotalVisits', 'Web_Time',\n",
    "       'Page_Views', 'Last Activity', 'Country', 'Occupation',\n",
    "       'Interview_Copy','Converted']]"
   ]
  },
  {
   "cell_type": "code",
   "execution_count": 265,
   "id": "9fb7637e",
   "metadata": {
    "scrolled": true
   },
   "outputs": [
    {
     "data": {
      "text/html": [
       "<div>\n",
       "<style scoped>\n",
       "    .dataframe tbody tr th:only-of-type {\n",
       "        vertical-align: middle;\n",
       "    }\n",
       "\n",
       "    .dataframe tbody tr th {\n",
       "        vertical-align: top;\n",
       "    }\n",
       "\n",
       "    .dataframe thead th {\n",
       "        text-align: right;\n",
       "    }\n",
       "</style>\n",
       "<table border=\"1\" class=\"dataframe\">\n",
       "  <thead>\n",
       "    <tr style=\"text-align: right;\">\n",
       "      <th></th>\n",
       "      <th>Lead Number</th>\n",
       "      <th>Lead Origin</th>\n",
       "      <th>Lead Source</th>\n",
       "      <th>TotalVisits</th>\n",
       "      <th>Web_Time</th>\n",
       "      <th>Page_Views</th>\n",
       "      <th>Last Activity</th>\n",
       "      <th>Country</th>\n",
       "      <th>Occupation</th>\n",
       "      <th>Interview_Copy</th>\n",
       "      <th>Converted</th>\n",
       "    </tr>\n",
       "  </thead>\n",
       "  <tbody>\n",
       "    <tr>\n",
       "      <th>0</th>\n",
       "      <td>660737</td>\n",
       "      <td>API</td>\n",
       "      <td>Olark Chat</td>\n",
       "      <td>0.0</td>\n",
       "      <td>0</td>\n",
       "      <td>0.0</td>\n",
       "      <td>Page Visited on Website</td>\n",
       "      <td>India</td>\n",
       "      <td>Unemployed</td>\n",
       "      <td>0</td>\n",
       "      <td>0</td>\n",
       "    </tr>\n",
       "    <tr>\n",
       "      <th>1</th>\n",
       "      <td>660728</td>\n",
       "      <td>API</td>\n",
       "      <td>Organic Search</td>\n",
       "      <td>5.0</td>\n",
       "      <td>674</td>\n",
       "      <td>2.5</td>\n",
       "      <td>Email Opened</td>\n",
       "      <td>India</td>\n",
       "      <td>Unemployed</td>\n",
       "      <td>0</td>\n",
       "      <td>0</td>\n",
       "    </tr>\n",
       "    <tr>\n",
       "      <th>2</th>\n",
       "      <td>660727</td>\n",
       "      <td>Landing Page Submission</td>\n",
       "      <td>Direct Traffic</td>\n",
       "      <td>2.0</td>\n",
       "      <td>1532</td>\n",
       "      <td>2.0</td>\n",
       "      <td>Email Opened</td>\n",
       "      <td>India</td>\n",
       "      <td>Student</td>\n",
       "      <td>1</td>\n",
       "      <td>1</td>\n",
       "    </tr>\n",
       "    <tr>\n",
       "      <th>3</th>\n",
       "      <td>660719</td>\n",
       "      <td>Landing Page Submission</td>\n",
       "      <td>Direct Traffic</td>\n",
       "      <td>1.0</td>\n",
       "      <td>305</td>\n",
       "      <td>1.0</td>\n",
       "      <td>Unreachable</td>\n",
       "      <td>India</td>\n",
       "      <td>Unemployed</td>\n",
       "      <td>0</td>\n",
       "      <td>0</td>\n",
       "    </tr>\n",
       "    <tr>\n",
       "      <th>4</th>\n",
       "      <td>660681</td>\n",
       "      <td>Landing Page Submission</td>\n",
       "      <td>Google</td>\n",
       "      <td>2.0</td>\n",
       "      <td>1428</td>\n",
       "      <td>1.0</td>\n",
       "      <td>Converted to Lead</td>\n",
       "      <td>India</td>\n",
       "      <td>Unemployed</td>\n",
       "      <td>0</td>\n",
       "      <td>1</td>\n",
       "    </tr>\n",
       "  </tbody>\n",
       "</table>\n",
       "</div>"
      ],
      "text/plain": [
       "   Lead Number              Lead Origin     Lead Source  TotalVisits  \\\n",
       "0       660737                      API      Olark Chat          0.0   \n",
       "1       660728                      API  Organic Search          5.0   \n",
       "2       660727  Landing Page Submission  Direct Traffic          2.0   \n",
       "3       660719  Landing Page Submission  Direct Traffic          1.0   \n",
       "4       660681  Landing Page Submission          Google          2.0   \n",
       "\n",
       "   Web_Time  Page_Views            Last Activity Country  Occupation  \\\n",
       "0         0         0.0  Page Visited on Website   India  Unemployed   \n",
       "1       674         2.5             Email Opened   India  Unemployed   \n",
       "2      1532         2.0             Email Opened   India     Student   \n",
       "3       305         1.0              Unreachable   India  Unemployed   \n",
       "4      1428         1.0        Converted to Lead   India  Unemployed   \n",
       "\n",
       "  Interview_Copy  Converted  \n",
       "0              0          0  \n",
       "1              0          0  \n",
       "2              1          1  \n",
       "3              0          0  \n",
       "4              0          1  "
      ]
     },
     "execution_count": 265,
     "metadata": {},
     "output_type": "execute_result"
    }
   ],
   "source": [
    "leads_data.head()"
   ]
  },
  {
   "cell_type": "markdown",
   "id": "1857bc8f",
   "metadata": {},
   "source": [
    "### Univariate Analysis"
   ]
  },
  {
   "cell_type": "code",
   "execution_count": 266,
   "id": "ab0ddfe7",
   "metadata": {},
   "outputs": [
    {
     "data": {
      "image/png": "[encoded data removed]",
      "text/plain": [
       "<Figure size 1008x720 with 3 Axes>"
      ]
     },
     "metadata": {},
     "output_type": "display_data"
    }
   ],
   "source": [
    "# Numerical columns\n",
    "# Set style\n",
    "import matplotlib.pyplot as plt\n",
    "plt.style.use('ggplot')\n",
    "\n",
    "# See distribution of each of these columns\n",
    "fig = plt.figure(figsize = (14, 10))\n",
    "plt.subplot(2, 2, 1)\n",
    "plt.hist(leads_data.TotalVisits, bins = 80)\n",
    "plt.title('Total website visits')\n",
    "\n",
    "plt.subplot(2, 2, 2)\n",
    "plt.hist(leads_data.Web_Time, bins = 30)\n",
    "plt.title('Time spent on website')\n",
    "\n",
    "plt.subplot(2, 2, 3)\n",
    "plt.hist(leads_data.Page_Views, bins = 80)\n",
    "plt.title('Average number of page views per visit')\n",
    "\n",
    "plt.show()"
   ]
  },
  {
   "cell_type": "code",
   "execution_count": 267,
   "id": "e7319f6a",
   "metadata": {},
   "outputs": [
    {
     "name": "stdout",
     "output_type": "stream",
     "text": [
      "numeric columns\n",
      "Index(['Lead Number', 'TotalVisits', 'Web_Time', 'Page_Views', 'Converted'], dtype='object')\n",
      "\n",
      "categorical columns\n",
      "Index(['Lead Origin', 'Lead Source', 'Last Activity', 'Country', 'Occupation',\n",
      "       'Interview_Copy'],\n",
      "      dtype='object')\n"
     ]
    }
   ],
   "source": [
    "num_cols=leads_data.select_dtypes(include='number').columns\n",
    "cat_cols=leads_data.select_dtypes(include='object').columns\n",
    "print(f'numeric columns\\n{num_cols}')\n",
    "print()\n",
    "print(f'categorical columns\\n{cat_cols}')"
   ]
  },
  {
   "cell_type": "code",
   "execution_count": 268,
   "id": "70ebdac9",
   "metadata": {},
   "outputs": [
    {
     "data": {
      "image/png": "[encoded data removed]",
      "text/plain": [
       "<Figure size 504x360 with 1 Axes>"
      ]
     },
     "metadata": {},
     "output_type": "display_data"
    },
    {
     "data": {
      "image/png": "[encoded data removed]",
      "text/plain": [
       "<Figure size 504x360 with 1 Axes>"
      ]
     },
     "metadata": {},
     "output_type": "display_data"
    },
    {
     "data": {
      "image/png": "[encoded data removed]",
      "text/plain": [
       "<Figure size 504x360 with 1 Axes>"
      ]
     },
     "metadata": {},
     "output_type": "display_data"
    },
    {
     "data": {
      "image/png": "[encoded data removed]",
      "text/plain": [
       "<Figure size 504x360 with 1 Axes>"
      ]
     },
     "metadata": {},
     "output_type": "display_data"
    },
    {
     "data": {
      "image/png": "[encoded data removed]",
      "text/plain": [
       "<Figure size 504x360 with 1 Axes>"
      ]
     },
     "metadata": {},
     "output_type": "display_data"
    },
    {
     "data": {
      "image/png": "[encoded data removed]",
      "text/plain": [
       "<Figure size 504x360 with 1 Axes>"
      ]
     },
     "metadata": {},
     "output_type": "display_data"
    }
   ],
   "source": [
    "# Loop through categorical columns and create separate plots\n",
    "for col in cat_cols:\n",
    "    plt.figure(figsize=(7, 5))  # Create a new figure for each plot\n",
    "    \n",
    "    # Countplot for each categorical variable\n",
    "    sns.countplot(data=leads_data, x=col, palette=\"viridis\")\n",
    "    \n",
    "    # Formatting\n",
    "    plt.title(f'Count of {col}', fontsize=14)  \n",
    "    plt.xlabel(col, fontsize=12)             \n",
    "    plt.ylabel(\"Count\", fontsize=12)           \n",
    "    plt.xticks(rotation=90, fontsize=10)       \n",
    "\n",
    "    plt.tight_layout()  # Prevent overlapping layout\n",
    "    plt.savefig(f'D:/UPGRAD/lead scoring images/{col}.png',dpi=300, bbox_inches='tight')\n",
    "    plt.show()  # Show each plot separately"
   ]
  },
  {
   "cell_type": "markdown",
   "id": "f36e9801",
   "metadata": {},
   "source": [
    "## Insights for ppt\n",
    "\n",
    "### 1. **Country**\n",
    "\n",
    "> **Insight:** The overwhelming majority of leads come from **India**, far outnumbering any other country.\n",
    "\n",
    "**Business Takeaway:**  \n",
    "This indicates a strong local presence or brand recognition in India. X Education may want to **focus marketing efforts** on Indian audiences, while also **exploring opportunities** to expand in other countries where there is emerging interest.\n",
    "\n",
    "---\n",
    "\n",
    "### 2. **Interview_Copy**  \n",
    "(`Interview_Copy` indicates whether the lead requested a free copy of “Mastering the Interview”: `1` = Yes, `0` = No)\n",
    "\n",
    "> **Insight:** A substantial portion of leads (roughly 35–40%) **request** the free interview copy, suggesting **higher job-preparation interest** among these individuals.\n",
    "\n",
    "**Business Takeaway:**  \n",
    "Leads who opt in for the free copy often show stronger intent. **Target** these leads with **tailored follow-ups** (e.g., webinars, personalized emails) to **increase conversion** rates.\n",
    "\n",
    "---\n",
    "\n",
    "### 3. **Last Activity**  \n",
    "(The most recent interaction by the lead)\n",
    "\n",
    "> **Insight:** “**Page Visited on Website**” and “**Email Opened**” are the top last activities, indicating that **website visits** and **email campaigns** are crucial touchpoints for lead engagement.\n",
    "\n",
    "**Business Takeaway:**  \n",
    "Continuously **optimize website content** and **refine email strategies** to keep leads engaged. Consider **behavior-based triggers** (e.g., automated follow-up emails after a page visit) to move leads closer to enrollment.\n",
    "\n",
    "---\n",
    "\n",
    "### 4. **Lead Origin**  \n",
    "(Where the lead initially came from)\n",
    "\n",
    "> **Insight:** “**Landing Page Submission**” generates the highest volume of leads, followed by “API” entries.\n",
    "\n",
    "**Business Takeaway:**  \n",
    "The **landing page** is effectively capturing lead information. Enhance it further by **A/B testing** headlines, forms, or CTAs (Call to Action) to maximize conversions.\n",
    "\n",
    "---\n",
    "\n",
    "### 5. **Lead Source**  \n",
    "(The specific channel bringing in the lead)\n",
    "\n",
    "> **Insight:** **Olark Chat** and **Organic Search** dominate lead sources, with **Direct Traffic** and **Google** also contributing significantly.\n",
    "\n",
    "**Business Takeaway:**  \n",
    "Real-time **chat interactions** and **SEO** (search engine optimization) are **key drivers**. Ensure **prompt, high-quality chat support** and **continual SEO improvements** to capitalize on these popular sources.\n",
    "\n",
    "---\n",
    "\n",
    "### 6. **Occupation**\n",
    "\n",
    "> **Insight:** A large majority of leads are **Unemployed**, followed by smaller segments of **Working Professionals** and **Students**.\n",
    "\n",
    "**Business Takeaway:**  \n",
    "The platform appeals heavily to **job seekers** looking to upskill or reskill. Tailor **course offerings** and **marketing messages** to highlight **career transition** and **employability** benefits to resonate with this demographic."
   ]
  },
  {
   "cell_type": "markdown",
   "id": "7015fb65",
   "metadata": {},
   "source": [
    "### Insights\n",
    "\n",
    "1. **Country**: Most leads come from **India**, suggesting a focus on Indian audiences with potential expansion elsewhere.\n",
    "\n",
    "2. **Interview_Copy**: Those who request the free interview guide show **higher intent**, making them prime targets for personalized follow-ups.\n",
    "\n",
    "3. **Last Activity**: Website visits and email opens are the most common final actions, indicating the importance of **website content** and **email campaigns**.\n",
    "\n",
    "4. **Lead Origin**: **Landing Page Submissions** generate the most leads, so optimizing landing pages can further boost conversions.\n",
    "\n",
    "5. **Lead Source**: **Olark Chat** and **Organic Search** are top channels, emphasizing the need for strong **live chat support** and **SEO** strategies.\n",
    "\n",
    "6. **Occupation**: The majority of leads are **Unemployed**, highlighting the importance of promoting **career-building** benefits to this group."
   ]
  },
  {
   "cell_type": "markdown",
   "id": "6954dfc0",
   "metadata": {},
   "source": [
    "### Bivariate Analysis"
   ]
  },
  {
   "cell_type": "code",
   "execution_count": 269,
   "id": "a0932f4f",
   "metadata": {},
   "outputs": [
    {
     "data": {
      "image/png": "[encoded data removed]",
      "text/plain": [
       "<Figure size 779.75x720 with 20 Axes>"
      ]
     },
     "metadata": {},
     "output_type": "display_data"
    }
   ],
   "source": [
    "import matplotlib.pyplot as plt\n",
    "import seaborn as sns\n",
    "# visualising the correlations via pairplot for numeric variables\n",
    "sns.pairplot(leads_data[['TotalVisits','Web_Time','Page_Views','Interview_Copy','Converted']],diag_kind='kde',hue='Converted')\n",
    "# Save the figure in a folder\n",
    "plt.savefig(\"D:/UPGRAD/lead scoring images/PairplotforNumVars.png\", dpi=300, bbox_inches='tight')\n",
    "plt.show()"
   ]
  },
  {
   "cell_type": "markdown",
   "id": "cafd1842",
   "metadata": {},
   "source": [
    "## Insights for ppt\n",
    "\n",
    "## 1. Higher Website Engagement → Higher Conversions\n",
    "- **Variables**: `Web_Time` (total time on website), `Page_Views` (pages viewed), `Converted`\n",
    "- **Insight**: Leads who spend **more time** on the website and **view more pages** tend to show a higher likelihood of conversion (becoming paying customers). On the pairplot, the **blue points** (converted) cluster toward higher values of `Web_Time` and `Page_Views` compared to the **red points** (not converted).\n",
    "\n",
    "**Business Takeaway**:  \n",
    "Encourage deeper engagement on the website. Provide clear navigation, useful content, or personalized recommendations to keep visitors on the site longer, which correlates with higher conversion rates.\n",
    "\n",
    "---\n",
    "\n",
    "## 2. Requesting a Free Copy of “Mastering the Interview” Signals High Intent\n",
    "- **Variable**: `Interview_Copy` (whether the lead wants a free copy)\n",
    "- **Insight**: The plots suggest that leads who **opt in** for the free copy of “Mastering the Interview” (`Interview_Copy = 1`) are more likely to convert. The density and scatter plots show a stronger concentration of **blue points** (converted) among those who want the free copy.\n",
    "\n",
    "**Business Takeaway**:  \n",
    "Leads who request the free copy exhibit **high intent**. Target these leads with additional follow-ups—such as personalized emails or direct contact from a sales representative—to capitalize on their demonstrated interest.\n",
    "\n",
    "---\n",
    "\n",
    "## 3. Web Time and Page Views are Positively Correlated\n",
    "- **Variables**: `Web_Time`, `Page_Views`\n",
    "- **Insight**: The pairplot reveals a **positive correlation** between the total time spent on the website and the number of pages viewed. Visitors who spend more time typically explore more pages.\n",
    "\n",
    "**Business Takeaway**:  \n",
    "Enhance website design and content flow to encourage exploration. Suggest related content, show popular course offerings, or highlight testimonials to keep users engaged and build trust.\n",
    "\n",
    "---\n",
    "\n",
    "## 4. High Total Visits Alone Do Not Guarantee Conversion\n",
    "- **Variable**: `TotalVisits` (number of times the lead visited the website)\n",
    "- **Insight**: Multiple visits can indicate interest, but the pairplot shows that **simply visiting frequently** does not always result in conversion. Some leads have high `TotalVisits` yet remain unconverted.\n",
    "\n",
    "**Business Takeaway**:  \n",
    "Focus on the **quality** of engagement. After the first few visits, consider proactive measures—such as pop-up offers, chat support, or targeted remarketing—to nudge these visitors toward conversion rather than relying on repeated visits alone.\n",
    "\n",
    "---\n",
    "\n",
    "## 5. Identifying High-Engagement Leads Early is Key\n",
    "- **Combined Insight**: Leads who ultimately convert often display multiple high-engagement signals: higher `Web_Time`, higher `Page_Views`, and a request for a free interview copy.\n",
    "- **Interpretation**: A visitor who returns multiple times, spends significant time per session, views several pages, **and** requests the free “Mastering the Interview” copy is demonstrating strong intent to convert.\n",
    "\n",
    "**Business Takeaway**:  \n",
    "Prioritize leads with **multiple engagement signals** for direct outreach. Offer targeted promotions, special webinars, or personal consultation to convert these high-potential leads into paying customers."
   ]
  },
  {
   "cell_type": "markdown",
   "id": "19a7d49f",
   "metadata": {},
   "source": [
    "### Insights\n",
    "\n",
    "1. **High Website Engagement → Better Conversions**: More time on site and more page views often lead to higher conversion rates.  \n",
    "2. **Free Copy Request Signals Intent**: Leads who request “Mastering the Interview” show higher intent and are more likely to convert.  \n",
    "3. **Web Time & Page Views Correlate**: Visitors who spend more time also view more pages, indicating deeper engagement.  \n",
    "4. **Total Visits ≠ Guaranteed Conversion**: Frequent visits alone don’t ensure conversion; the quality of engagement matters more.  \n",
    "5. **Prioritize High-Engagement Leads**: Focus on leads who show multiple signs of interest (e.g., free copy request, long site visits) for targeted follow-ups."
   ]
  },
  {
   "cell_type": "markdown",
   "id": "2810227d",
   "metadata": {},
   "source": [
    "##### For categorical variables with multiple levels, creating dummy features (one-hot encoding)"
   ]
  },
  {
   "cell_type": "code",
   "execution_count": null,
   "id": "37a62dbc",
   "metadata": {},
   "outputs": [],
   "source": [
    "# Creating dummy variables for the categorical variables and dropping the first one.\n",
    "dummy1 = pd.get_dummies(leads_data[['Lead Origin', 'Lead Source', 'Last Activity', 'Country','Occupation','Interview_Copy']], drop_first=True,dtype=int)\n",
    "\n",
    "# Adding the results to the master dataframe\n",
    "leads_data = pd.concat([leads_data, dummy1], axis=1)"
   ]
  },
  {
   "cell_type": "code",
   "execution_count": null,
   "id": "d1470a4c",
   "metadata": {},
   "outputs": [],
   "source": [
    "leads_data.head()"
   ]
  },
  {
   "cell_type": "code",
   "execution_count": null,
   "id": "d894b651",
   "metadata": {},
   "outputs": [],
   "source": [
    "# removing the original columns for which dummy variables have been created\n",
    "leads_data.drop(columns=['Lead Origin', 'Lead Source', 'Last Activity', 'Country','Occupation','Interview_Copy'],axis=1,inplace=True)"
   ]
  },
  {
   "cell_type": "code",
   "execution_count": null,
   "id": "7e87161c",
   "metadata": {},
   "outputs": [],
   "source": [
    "leads_data.shape"
   ]
  },
  {
   "cell_type": "code",
   "execution_count": null,
   "id": "dfdfb9d3",
   "metadata": {},
   "outputs": [],
   "source": [
    "leads_data.info()"
   ]
  },
  {
   "cell_type": "code",
   "execution_count": null,
   "id": "742fa2f1",
   "metadata": {},
   "outputs": [],
   "source": [
    "# Calculating percentage of null values in all the cols\n",
    "(100*leads_data.isnull().mean()).sort_values(ascending=False)"
   ]
  },
  {
   "cell_type": "markdown",
   "id": "8e34cc13",
   "metadata": {},
   "source": [
    "#### Checking outliers for the continuous numeric variables except the dummy variables"
   ]
  },
  {
   "cell_type": "code",
   "execution_count": null,
   "id": "22258757",
   "metadata": {},
   "outputs": [],
   "source": [
    "# Checking for outliers in the numeric variables\n",
    "num_leads = leads_data[['TotalVisits','Web_Time','Page_Views']]"
   ]
  },
  {
   "cell_type": "code",
   "execution_count": null,
   "id": "96da7763",
   "metadata": {},
   "outputs": [],
   "source": [
    "# Checking outliers at 25%, 50%, 75%, 90%, 95% and 99%\n",
    "num_leads.describe(percentiles=[.25, .5, .75, .90, .95, .99])"
   ]
  },
  {
   "cell_type": "code",
   "execution_count": null,
   "id": "25155ffd",
   "metadata": {},
   "outputs": [],
   "source": [
    "# visualizing for outliers\n",
    "import matplotlib.pyplot as plt\n",
    "import seaborn as sns"
   ]
  },
  {
   "cell_type": "code",
   "execution_count": null,
   "id": "5fb8ce5b",
   "metadata": {},
   "outputs": [],
   "source": [
    "sns.boxplot(num_leads)\n",
    "plt.savefig('D:/UPGRAD/lead scoring images/num_outlier.png',dpi=300, bbox_inches='tight')"
   ]
  },
  {
   "cell_type": "markdown",
   "id": "e1807d20",
   "metadata": {},
   "source": [
    "We can see that the columns TotalVisits and Page_Views have outliers"
   ]
  },
  {
   "cell_type": "code",
   "execution_count": null,
   "id": "c5ab14d9",
   "metadata": {},
   "outputs": [],
   "source": [
    "# Calculating percentage of null values in all the cols\n",
    "(100*leads_data.isnull().mean()).sort_values(ascending=False)"
   ]
  },
  {
   "cell_type": "code",
   "execution_count": null,
   "id": "c9f756f2",
   "metadata": {},
   "outputs": [],
   "source": [
    "# List of columns to check for outliers\n",
    "cols = ['TotalVisits', 'Web_Time', 'Page_Views']\n",
    "\n",
    "# Start with a boolean mask that is True for all rows\n",
    "mask = pd.Series(True, index=leads_data.index)\n",
    "\n",
    "# Loop through each column and update the mask:\n",
    "# Only keep rows where the value is between the 1st and 99th percentile.\n",
    "for col in cols:\n",
    "    # Calculate the 1st and 99th percentiles for the current column\n",
    "    lower_bound = leads_data[col].quantile(0.01)\n",
    "    upper_bound = leads_data[col].quantile(0.99)\n",
    "    print(f\"For column '{col}': Lower bound = {lower_bound}, Upper bound = {upper_bound}\")\n",
    "    \n",
    "    # Update the mask: a row remains True only if its value in this column is within bounds.\n",
    "    mask &= (leads_data[col] >= lower_bound) & (leads_data[col] <= upper_bound)\n",
    "\n",
    "# Apply the mask to the entire DataFrame.\n",
    "# This removes any row that has an outlier in any of the three columns.\n",
    "leads_data = leads_data[mask].reset_index(drop=True)\n",
    "\n",
    "print(\"New shape of leads_data after outlier removal:\", leads_data.shape)\n"
   ]
  },
  {
   "cell_type": "code",
   "execution_count": null,
   "id": "4a56ad06",
   "metadata": {},
   "outputs": [],
   "source": [
    "leads_data[['TotalVisits','Web_Time','Page_Views']].describe(percentiles=[0.25,0.5,0.75,0.90,0.99])"
   ]
  },
  {
   "cell_type": "code",
   "execution_count": null,
   "id": "6b972020",
   "metadata": {},
   "outputs": [],
   "source": [
    "sns.boxplot(leads_data[['TotalVisits','Web_Time','Page_Views']])"
   ]
  },
  {
   "cell_type": "markdown",
   "id": "804cf8a6",
   "metadata": {},
   "source": [
    "Now we can see that there are negligible number of outliers remaining"
   ]
  },
  {
   "cell_type": "code",
   "execution_count": null,
   "id": "052a8521",
   "metadata": {
    "scrolled": true
   },
   "outputs": [],
   "source": [
    "leads_data.shape"
   ]
  },
  {
   "cell_type": "code",
   "execution_count": null,
   "id": "45b38154",
   "metadata": {
    "scrolled": true
   },
   "outputs": [],
   "source": [
    "leads_data.info()"
   ]
  },
  {
   "cell_type": "markdown",
   "id": "0bb74437",
   "metadata": {},
   "source": [
    "We can see that all the variables are of numeric type now"
   ]
  },
  {
   "cell_type": "markdown",
   "id": "f91b20a8",
   "metadata": {},
   "source": [
    "### Train-Test Split"
   ]
  },
  {
   "cell_type": "code",
   "execution_count": null,
   "id": "fa97e507",
   "metadata": {},
   "outputs": [],
   "source": [
    "from sklearn.model_selection import train_test_split"
   ]
  },
  {
   "cell_type": "code",
   "execution_count": null,
   "id": "911b1f9e",
   "metadata": {},
   "outputs": [],
   "source": [
    "# Putting feature variable to X\n",
    "data = leads_data.copy()\n",
    "\n",
    "X = leads_data.drop(['Converted'], axis=1)\n",
    "\n",
    "X.head()"
   ]
  },
  {
   "cell_type": "code",
   "execution_count": null,
   "id": "9554791b",
   "metadata": {},
   "outputs": [],
   "source": [
    "# Putting response variable to y\n",
    "y = leads_data.Converted\n",
    "\n",
    "y.head()"
   ]
  },
  {
   "cell_type": "code",
   "execution_count": null,
   "id": "1690b0f7",
   "metadata": {},
   "outputs": [],
   "source": [
    "# Splitting the data into train and test\n",
    "X_train, X_test, y_train, y_test = train_test_split(X, y, train_size=0.7, test_size=0.3, random_state=100)"
   ]
  },
  {
   "cell_type": "code",
   "execution_count": null,
   "id": "1e012f0b",
   "metadata": {},
   "outputs": [],
   "source": [
    "lead_number_train = X_train['Lead Number']\n",
    "lead_number_test  = X_test['Lead Number']\n",
    "\n",
    "# Now drop the Lead Number column from the feature sets that go into modeling.\n",
    "X_train_model = X_train.drop('Lead Number', axis=1)\n",
    "X_test_model  = X_test.drop('Lead Number', axis=1)"
   ]
  },
  {
   "cell_type": "markdown",
   "id": "70d4f7df",
   "metadata": {},
   "source": [
    "### Feature Scaling"
   ]
  },
  {
   "cell_type": "code",
   "execution_count": null,
   "id": "2e96b080",
   "metadata": {},
   "outputs": [],
   "source": [
    "from sklearn.preprocessing import StandardScaler"
   ]
  },
  {
   "cell_type": "code",
   "execution_count": null,
   "id": "78ab96f3",
   "metadata": {},
   "outputs": [],
   "source": [
    "scaler = StandardScaler()\n",
    "\n",
    "X_train_model[['TotalVisits','Web_Time','Page_Views']] = scaler.fit_transform(X_train_model[['TotalVisits','Web_Time','Page_Views']])\n",
    "\n",
    "X_train_model.head()"
   ]
  },
  {
   "cell_type": "code",
   "execution_count": null,
   "id": "1e68ba76",
   "metadata": {},
   "outputs": [],
   "source": [
    "### Checking the Lead Conversion Rate\n",
    "(sum(leads_data['Converted'])/leads_data.shape[0])*100"
   ]
  },
  {
   "cell_type": "markdown",
   "id": "cf63fe0f",
   "metadata": {},
   "source": [
    "The conversion rate is about 37% which indicates that there is no class imbalance in the dataset."
   ]
  },
  {
   "cell_type": "markdown",
   "id": "be09e895",
   "metadata": {},
   "source": [
    "#### Looking at Correlations"
   ]
  },
  {
   "cell_type": "code",
   "execution_count": null,
   "id": "7f68c6ed",
   "metadata": {},
   "outputs": [],
   "source": [
    "# Let's see the correlation matrix \n",
    "plt.figure(figsize = (80,80))        # Size of the figure\n",
    "sns.heatmap(X_train.corr(),annot = True)\n",
    "plt.show()"
   ]
  },
  {
   "cell_type": "markdown",
   "id": "93110df3",
   "metadata": {},
   "source": [
    "### Dropping highly correlated dummy variables"
   ]
  },
  {
   "cell_type": "code",
   "execution_count": null,
   "id": "3b3dd7a9",
   "metadata": {},
   "outputs": [],
   "source": [
    "X_test_model = X_test_model.drop(['Occupation_Working Professional'], axis=1)\n",
    "X_train_model = X_train_model.drop(['Occupation_Working Professional'], axis=1)"
   ]
  },
  {
   "cell_type": "markdown",
   "id": "10684118",
   "metadata": {},
   "source": [
    "#### Model Building and Automated Feature Selection Using RFE"
   ]
  },
  {
   "cell_type": "code",
   "execution_count": null,
   "id": "fd396bca",
   "metadata": {},
   "outputs": [],
   "source": [
    "import statsmodels.api as sm"
   ]
  },
  {
   "cell_type": "code",
   "execution_count": null,
   "id": "cde7f83a",
   "metadata": {},
   "outputs": [],
   "source": [
    "from sklearn.linear_model import LogisticRegression\n",
    "logreg = LogisticRegression()"
   ]
  },
  {
   "cell_type": "code",
   "execution_count": null,
   "id": "5cba1a24",
   "metadata": {},
   "outputs": [],
   "source": [
    "from sklearn.feature_selection import RFE\n",
    "rfe = RFE(logreg, n_features_to_select=15)             # running RFE with 15 variables as output\n",
    "rfe = rfe.fit(X_train_model, y_train)"
   ]
  },
  {
   "cell_type": "code",
   "execution_count": null,
   "id": "b325d887",
   "metadata": {},
   "outputs": [],
   "source": [
    "rfe.support_"
   ]
  },
  {
   "cell_type": "code",
   "execution_count": null,
   "id": "46f09470",
   "metadata": {},
   "outputs": [],
   "source": [
    "# Convert np.bool_ and np.int64 to native Python types\n",
    "output = [(col, bool(s), int(r)) for col, s, r in zip(X_train_model.columns, rfe.support_, rfe.ranking_)]\n",
    "print(output)"
   ]
  },
  {
   "cell_type": "code",
   "execution_count": null,
   "id": "5704c20e",
   "metadata": {},
   "outputs": [],
   "source": [
    "# 15 best features selected by the recursive feature elimination(RFE)\n",
    "col = X_train_model.columns[rfe.support_]\n",
    "print(col)"
   ]
  },
  {
   "cell_type": "code",
   "execution_count": null,
   "id": "559a5db5",
   "metadata": {},
   "outputs": [],
   "source": [
    "# features not selected by rfe\n",
    "no_col=X_train_model.columns[~rfe.support_]\n",
    "print(no_col)"
   ]
  },
  {
   "cell_type": "markdown",
   "id": "7165905e",
   "metadata": {},
   "source": [
    "##### Building and Assessing the model with StatsModels"
   ]
  },
  {
   "cell_type": "code",
   "execution_count": null,
   "id": "c940c551",
   "metadata": {},
   "outputs": [],
   "source": [
    "# building model using the 15 best features selected by rfe\n",
    "# Model 1\n",
    "X_train_sm = sm.add_constant(X_train_model[col])\n",
    "logm2 = sm.GLM(y_train,X_train_sm, family = sm.families.Binomial())\n",
    "res = logm2.fit()\n",
    "res.summary()"
   ]
  },
  {
   "cell_type": "code",
   "execution_count": null,
   "id": "78b9753b",
   "metadata": {},
   "outputs": [],
   "source": [
    "# Getting the predicted values on the train set\n",
    "y_train_pred = res.predict(X_train_sm)\n",
    "y_train_pred[:10]"
   ]
  },
  {
   "cell_type": "code",
   "execution_count": null,
   "id": "a0fec0a7",
   "metadata": {},
   "outputs": [],
   "source": [
    "y_train_pred = y_train_pred.values.reshape(-1)\n",
    "y_train_pred[:10]"
   ]
  },
  {
   "cell_type": "markdown",
   "id": "2fc49ca5",
   "metadata": {},
   "source": [
    "##### Creating a dataframe with the actual lead converted and the predicted probabilities"
   ]
  },
  {
   "cell_type": "code",
   "execution_count": null,
   "id": "7a2627a7",
   "metadata": {},
   "outputs": [],
   "source": [
    "y_train_pred_final = pd.DataFrame({'Converted':y_train.values, 'Convert_Prob':y_train_pred})\n",
    "y_train_pred_final.head()"
   ]
  },
  {
   "cell_type": "code",
   "execution_count": null,
   "id": "f5c10b9b",
   "metadata": {},
   "outputs": [],
   "source": [
    "y_train_pred_final['predicted'] = y_train_pred_final.Convert_Prob.map(lambda x: 1 if x > 0.5 else 0)\n",
    "\n",
    "# Let's see the head\n",
    "y_train_pred_final.head()"
   ]
  },
  {
   "cell_type": "code",
   "execution_count": null,
   "id": "5f247e3b",
   "metadata": {},
   "outputs": [],
   "source": [
    "from sklearn import metrics"
   ]
  },
  {
   "cell_type": "code",
   "execution_count": null,
   "id": "544fd7bf",
   "metadata": {},
   "outputs": [],
   "source": [
    "# Create the confusion matrix in a presentable dataframe form\n",
    "confusion = metrics.confusion_matrix(y_train_pred_final['Converted'], y_train_pred_final['predicted'])\n",
    "print(confusion)"
   ]
  },
  {
   "cell_type": "code",
   "execution_count": null,
   "id": "4e25a441",
   "metadata": {},
   "outputs": [],
   "source": [
    "# Calculating recall and accuracy score on the training data\n",
    "print('recall --> ', metrics.recall_score(y_train_pred_final['Converted'], y_train_pred_final['predicted']))\n",
    "print('accuracy --> ', metrics.accuracy_score(y_train_pred_final['Converted'], y_train_pred_final['predicted']))"
   ]
  },
  {
   "cell_type": "markdown",
   "id": "10159e3d",
   "metadata": {},
   "source": [
    "The present recall score for the training set is almost 69%. We are supposed to maintain the recall score around 80%.\n",
    "\n"
   ]
  },
  {
   "cell_type": "markdown",
   "id": "8374e752",
   "metadata": {},
   "source": [
    "#### Checking VIFs for multicollinearity among the independent variables"
   ]
  },
  {
   "cell_type": "code",
   "execution_count": null,
   "id": "161d6dff",
   "metadata": {},
   "outputs": [],
   "source": [
    "# Check for the VIF values of the feature variables. \n",
    "from statsmodels.stats.outliers_influence import variance_inflation_factor"
   ]
  },
  {
   "cell_type": "code",
   "execution_count": null,
   "id": "37e051ee",
   "metadata": {},
   "outputs": [],
   "source": [
    "# Model 2\n",
    "X_train_sm = sm.add_constant(X_train_model[col])\n",
    "lm = sm.GLM(y_train, X_train_sm,family = sm.families.Binomial()).fit()\n",
    "print(lm.summary())"
   ]
  },
  {
   "cell_type": "code",
   "execution_count": null,
   "id": "78edda07",
   "metadata": {},
   "outputs": [],
   "source": [
    "# checking vif again for model 2\n",
    "df1 = X_train_model[col]\n",
    "vif = pd.DataFrame()\n",
    "vif['Features'] = df1.columns\n",
    "vif['VIF'] = [variance_inflation_factor(df1.values, i) for i in range(df1.shape[1])]\n",
    "vif['VIF'] = round(vif['VIF'],2)\n",
    "print(vif.sort_values(by='VIF',ascending=False))"
   ]
  },
  {
   "cell_type": "code",
   "execution_count": null,
   "id": "db654518",
   "metadata": {},
   "outputs": [],
   "source": [
    "col = col.drop(['Lead Origin_Lead Add Form'],1) # since its vif is 98.39 >> 5\n",
    "print(f\"number of cols : {len(col)}\")\n",
    "print(col)"
   ]
  },
  {
   "cell_type": "code",
   "execution_count": null,
   "id": "26b4535e",
   "metadata": {},
   "outputs": [],
   "source": [
    "# Model 3\n",
    "X_train_sm = sm.add_constant(X_train_model[col])\n",
    "lm = sm.GLM(y_train, X_train_sm,family = sm.families.Binomial()).fit()\n",
    "print(lm.summary())"
   ]
  },
  {
   "cell_type": "code",
   "execution_count": null,
   "id": "b918e829",
   "metadata": {},
   "outputs": [],
   "source": [
    "# checking vifs again for model 3\n",
    "df1 = X_train_model[col]\n",
    "vif = pd.DataFrame()\n",
    "vif['Features'] = df1.columns\n",
    "vif['VIF'] = [variance_inflation_factor(df1.values, i) for i in range(df1.shape[1])]\n",
    "vif['VIF'] = round(vif['VIF'],2)\n",
    "print(vif.sort_values(by='VIF',ascending=False))"
   ]
  },
  {
   "cell_type": "code",
   "execution_count": null,
   "id": "aee7005c",
   "metadata": {},
   "outputs": [],
   "source": [
    "col = col.drop(['Country_Saudi Arabia'],1) # since its p value is more than 0.05\n",
    "print(f\"number of cols : {len(col)}\")\n",
    "print(col)"
   ]
  },
  {
   "cell_type": "code",
   "execution_count": null,
   "id": "5ec73597",
   "metadata": {},
   "outputs": [],
   "source": [
    "# Model 4\n",
    "X_train_sm = sm.add_constant(X_train_model[col])\n",
    "lm = sm.GLM(y_train, X_train_sm,family = sm.families.Binomial()).fit()\n",
    "print(lm.summary())"
   ]
  },
  {
   "cell_type": "code",
   "execution_count": null,
   "id": "e211658e",
   "metadata": {},
   "outputs": [],
   "source": [
    "# checking vifs again for model 4\n",
    "df1 = X_train_model[col]\n",
    "vif = pd.DataFrame()\n",
    "vif['Features'] = df1.columns\n",
    "vif['VIF'] = [variance_inflation_factor(df1.values, i) for i in range(df1.shape[1])]\n",
    "vif['VIF'] = round(vif['VIF'],2)\n",
    "print(vif.sort_values(by='VIF',ascending=False))"
   ]
  },
  {
   "cell_type": "markdown",
   "id": "217f79fc",
   "metadata": {},
   "source": [
    "Now we can see that no p values are more than 0.05 and all the vifs are less than 3. So no need to drop any other feature now."
   ]
  },
  {
   "cell_type": "code",
   "execution_count": null,
   "id": "72bb5da1",
   "metadata": {},
   "outputs": [],
   "source": [
    "y_train_pred_final_new = pd.DataFrame({'Converted':y_train.values})\n",
    "y_train_pred_final_new.head()"
   ]
  },
  {
   "cell_type": "code",
   "execution_count": null,
   "id": "f37f7fad",
   "metadata": {},
   "outputs": [],
   "source": [
    "# predicting the probabilities using the updated model\n",
    "y_train_pred_new = lm.predict(X_train_sm).values.reshape(-1)"
   ]
  },
  {
   "cell_type": "code",
   "execution_count": null,
   "id": "edd76a68",
   "metadata": {},
   "outputs": [],
   "source": [
    "y_train_pred_final_new['Convert_Prob'] = y_train_pred_new\n",
    "y_train_pred_final_new.head()"
   ]
  },
  {
   "cell_type": "code",
   "execution_count": null,
   "id": "ad8a76b9",
   "metadata": {},
   "outputs": [],
   "source": [
    "# Creating new column 'predicted' with 1 if Converted_Prob > 0.5 else 0.\n",
    "# 0.5 being a random cutoff  probability threshold.\n",
    "y_train_pred_final_new['predicted'] = y_train_pred_final_new.Convert_Prob.map(lambda x: 1 if x > 0.5 else 0)\n",
    "y_train_pred_final_new.head()"
   ]
  },
  {
   "cell_type": "code",
   "execution_count": null,
   "id": "0610040a",
   "metadata": {},
   "outputs": [],
   "source": [
    "# constructing the confusion matrix using the updated model(Model 4)\n",
    "cm=metrics.confusion_matrix(y_train_pred_final_new.Converted,y_train_pred_final_new.predicted)\n",
    "print(cm)"
   ]
  },
  {
   "cell_type": "code",
   "execution_count": null,
   "id": "cb2d34d9",
   "metadata": {},
   "outputs": [],
   "source": [
    "# Calculating final recall and accuracy score on the training data\n",
    "print('recall --> ', metrics.recall_score(y_train_pred_final_new['Converted'], y_train_pred_final_new['predicted']))\n",
    "print('accuracy --> ', metrics.accuracy_score(y_train_pred_final_new['Converted'], y_train_pred_final_new['predicted']))\n",
    "# Extract true negatives (TN), false positives (FP), false negatives (FN), and true positives (TP)\n",
    "TN, FP, FN, TP = cm.ravel()\n",
    "\n",
    "# Calculate specificity: TN / (TN + FP)\n",
    "specificity = TN / (TN + FP)\n",
    "print('specificity --> ', specificity)"
   ]
  },
  {
   "cell_type": "markdown",
   "id": "864ec8a2",
   "metadata": {},
   "source": [
    "It seems that after deleting few features also, the recall almost remains the same. So we need to try changing the cut_off probablility keeping in mind the target recall score of around 80%"
   ]
  },
  {
   "cell_type": "markdown",
   "id": "9ff29ed8",
   "metadata": {},
   "source": [
    "### Plotting the ROC Curve"
   ]
  },
  {
   "cell_type": "code",
   "execution_count": null,
   "id": "bb00942e",
   "metadata": {},
   "outputs": [],
   "source": [
    "# Defining a function for constructing the roc curve\n",
    "def draw_roc( actual, probs ):\n",
    "    fpr, tpr, thresholds = metrics.roc_curve( actual, probs,\n",
    "                                              drop_intermediate = False )\n",
    "    auc_score = metrics.roc_auc_score( actual, probs )\n",
    "    plt.figure(figsize=(5, 5))\n",
    "    plt.plot( fpr, tpr, label=f'ROC curve (area = {auc_score:.2f})' )\n",
    "    plt.plot([0, 1], [0, 1], 'k--')\n",
    "    plt.xlim([0.0, 1.0])\n",
    "    plt.ylim([0.0, 1.05])\n",
    "    plt.xlabel('False Positive Rate or [1 - True Negative Rate]')\n",
    "    plt.ylabel('True Positive Rate')\n",
    "    plt.title('Receiver operating characteristic example')\n",
    "    plt.legend(loc=\"lower right\")\n",
    "    plt.show()\n",
    "\n",
    "    return None"
   ]
  },
  {
   "cell_type": "code",
   "execution_count": null,
   "id": "fbf534b5",
   "metadata": {},
   "outputs": [],
   "source": [
    "# roc curve for the updated model (Model 4)\n",
    "draw_roc(y_train_pred_final_new.Converted, y_train_pred_final_new.Convert_Prob)"
   ]
  },
  {
   "cell_type": "markdown",
   "id": "60600c84",
   "metadata": {},
   "source": [
    "### Finding Optimal Cutoff Point"
   ]
  },
  {
   "cell_type": "markdown",
   "id": "7bc08c3d",
   "metadata": {},
   "source": [
    "Optimal cutoff probability is that prob where we get balanced accuracy,sensitivity and specificity"
   ]
  },
  {
   "cell_type": "code",
   "execution_count": null,
   "id": "5ea0d141",
   "metadata": {},
   "outputs": [],
   "source": [
    "# Creating columns with different probability cutoffs \n",
    "numbers = [float(x)/10 for x in range(10)]\n",
    "for i in numbers:\n",
    "    y_train_pred_final_new[i]= y_train_pred_final_new.Convert_Prob.map(lambda x: 1 if x > i else 0)\n",
    "y_train_pred_final_new.head()"
   ]
  },
  {
   "cell_type": "code",
   "execution_count": null,
   "id": "cd29d11f",
   "metadata": {},
   "outputs": [],
   "source": [
    "# Calculating accuracy, sensitivity and specificity for various probability cutoffs.\n",
    "cutoff_df = pd.DataFrame( columns = ['prob','accuracy','sensi','speci'])\n",
    "\n",
    "# TP = confusion[1,1] # true positive \n",
    "# TN = confusion[0,0] # true negatives\n",
    "# FP = confusion[0,1] # false positives\n",
    "# FN = confusion[1,0] # false negatives\n",
    "\n",
    "num = [0.0,0.1,0.2,0.3,0.4,0.5,0.6,0.7,0.8,0.9]\n",
    "for i in num:\n",
    "    cm1 = metrics.confusion_matrix(y_train_pred_final_new.Converted, y_train_pred_final_new[i] )\n",
    "    total1=sum(sum(cm1))\n",
    "    accuracy = (cm1[0,0]+cm1[1,1])/total1\n",
    "    \n",
    "    speci = cm1[0,0]/(cm1[0,0]+cm1[0,1])\n",
    "    sensi = cm1[1,1]/(cm1[1,0]+cm1[1,1])\n",
    "    cutoff_df.loc[i] =[ i ,accuracy,sensi,speci]\n",
    "print(cutoff_df)"
   ]
  },
  {
   "cell_type": "markdown",
   "id": "71224df5",
   "metadata": {},
   "source": [
    "From the above it is clear that our previous cutoff of 0.5 was not optimal. Instead something around 0.3 would be a better choice."
   ]
  },
  {
   "cell_type": "code",
   "execution_count": null,
   "id": "a2322ef3",
   "metadata": {},
   "outputs": [],
   "source": [
    "# Let's plot accuracy sensitivity and specificity for various probabilities.\n",
    "cutoff_df.plot.line(x='prob', y=['accuracy','sensi','speci'])\n",
    "plt.show()"
   ]
  },
  {
   "cell_type": "markdown",
   "id": "d3c1ba1f",
   "metadata": {},
   "source": [
    "so around 0.32 cutoff would be better. lets try the cutoff 0.32"
   ]
  },
  {
   "cell_type": "code",
   "execution_count": null,
   "id": "8d1b2a32",
   "metadata": {},
   "outputs": [],
   "source": [
    "# Changing the cutoff to 0.32\n",
    "y_train_pred_final_new['final_predicted'] = y_train_pred_final_new.Convert_Prob.map( lambda x: 1 if x > 0.32 else 0)\n",
    "y_train_pred_final_new.head(10)"
   ]
  },
  {
   "cell_type": "code",
   "execution_count": null,
   "id": "19ee23c8",
   "metadata": {},
   "outputs": [],
   "source": [
    "# creating the confusion matrix for the updated cutoff \n",
    "cm1=metrics.confusion_matrix(y_train_pred_final_new.Converted,y_train_pred_final_new.final_predicted)\n",
    "print(cm1)"
   ]
  },
  {
   "cell_type": "code",
   "execution_count": null,
   "id": "7cf11dfc",
   "metadata": {},
   "outputs": [],
   "source": [
    "# Calculating final recall and accuracy score on the training data\n",
    "print('recall --> ', metrics.recall_score(y_train_pred_final_new['Converted'], y_train_pred_final_new['final_predicted']))\n",
    "print('accuracy --> ', metrics.accuracy_score(y_train_pred_final_new['Converted'], y_train_pred_final_new['final_predicted']))\n",
    "# Extract true negatives (TN), false positives (FP), false negatives (FN), and true positives (TP)\n",
    "TN, FP, FN, TP = cm1.ravel()\n",
    "\n",
    "# Calculate specificity: TN / (TN + FP)\n",
    "specificity = TN / (TN + FP)\n",
    "print('specificity --> ', specificity)"
   ]
  },
  {
   "cell_type": "markdown",
   "id": "feaf68c1",
   "metadata": {},
   "source": [
    "so from the above we can see that we have achieved the recall as 81% which is better than the required target of 80%"
   ]
  },
  {
   "cell_type": "code",
   "execution_count": null,
   "id": "9a54fef2",
   "metadata": {},
   "outputs": [],
   "source": [
    "y_train_pred = lm.predict(X_train_sm)\n",
    "\n",
    "# Create a DataFrame for the training set results, ensuring all series are of equal length\n",
    "train_results = pd.DataFrame({\n",
    "    'Lead Number': lead_number_train,                     # should have the same length as X_train_model\n",
    "    'Converted': y_train,                                 # actual conversion values from training set\n",
    "    'Convert_Prob': y_train_pred,                         # predicted probabilities from the model\n",
    "    'Final_Predicted': [1 if x > 0.32 else 0 for x in y_train_pred],  # applying cutoff 0.32\n",
    "    'Lead_Score': (y_train_pred * 100).round(0)           # calculating lead score and rounding off\n",
    "})\n",
    "\n",
    "print(train_results.head())"
   ]
  },
  {
   "cell_type": "code",
   "execution_count": null,
   "id": "e2d127af",
   "metadata": {},
   "outputs": [],
   "source": [
    "# Verifying recall(sensitivity), specificity and accuracy for train_results\n",
    "print(f'recall --> {metrics.recall_score(train_results.Converted,train_results.Final_Predicted)}')\n",
    "print(f'specificity --> {metrics.recall_score(train_results.Converted,train_results.Final_Predicted,pos_label=0)}')\n",
    "print(f'accuracy --> {metrics.accuracy_score(train_results.Converted,train_results.Final_Predicted)}')"
   ]
  },
  {
   "cell_type": "code",
   "execution_count": null,
   "id": "719591cc",
   "metadata": {},
   "outputs": [],
   "source": [
    "from sklearn.metrics import precision_score, recall_score"
   ]
  },
  {
   "cell_type": "code",
   "execution_count": null,
   "id": "fbb8709d",
   "metadata": {},
   "outputs": [],
   "source": [
    "precision_score(y_train_pred_final_new['Converted'], y_train_pred_final_new['final_predicted'])"
   ]
  },
  {
   "cell_type": "code",
   "execution_count": null,
   "id": "685c3ca6",
   "metadata": {},
   "outputs": [],
   "source": [
    "recall_score(y_train_pred_final_new['Converted'], y_train_pred_final_new['final_predicted'])"
   ]
  },
  {
   "cell_type": "markdown",
   "id": "fd73de10",
   "metadata": {},
   "source": [
    "### Step 11: Making predictions on the test set"
   ]
  },
  {
   "cell_type": "code",
   "execution_count": null,
   "id": "92be03d6",
   "metadata": {},
   "outputs": [],
   "source": [
    "# transforming the numeric variables in testing data using standard scaler\n",
    "X_test_model[['TotalVisits','Web_Time','Page_Views']] = scaler.transform(X_test_model[['TotalVisits','Web_Time','Page_Views']])"
   ]
  },
  {
   "cell_type": "code",
   "execution_count": null,
   "id": "c721eab8",
   "metadata": {},
   "outputs": [],
   "source": [
    "# using the same 15 cols in testing selected by rfe\n",
    "X_test_model = X_test_model[col]\n",
    "X_test_model.head()"
   ]
  },
  {
   "cell_type": "code",
   "execution_count": null,
   "id": "e63b1cc2",
   "metadata": {},
   "outputs": [],
   "source": [
    "#Adding a constant column\n",
    "X_test_sm = sm.add_constant(X_test_model)"
   ]
  },
  {
   "cell_type": "markdown",
   "id": "64c25f3f",
   "metadata": {},
   "source": [
    "Making predictions on the test set"
   ]
  },
  {
   "cell_type": "code",
   "execution_count": null,
   "id": "163343c1",
   "metadata": {},
   "outputs": [],
   "source": [
    "# predicting the probabilities using the final model\n",
    "y_test_pred = lm.predict(X_test_sm)"
   ]
  },
  {
   "cell_type": "code",
   "execution_count": null,
   "id": "547fc391",
   "metadata": {},
   "outputs": [],
   "source": [
    "y_test_pred[:10]"
   ]
  },
  {
   "cell_type": "code",
   "execution_count": null,
   "id": "2856ffb7",
   "metadata": {},
   "outputs": [],
   "source": [
    "# Converting y_pred to a dataframe which is an array\n",
    "y_pred_1 = pd.DataFrame(y_test_pred)"
   ]
  },
  {
   "cell_type": "code",
   "execution_count": null,
   "id": "d6325e6b",
   "metadata": {},
   "outputs": [],
   "source": [
    "# Let's see the head\n",
    "y_pred_1.head()"
   ]
  },
  {
   "cell_type": "code",
   "execution_count": null,
   "id": "d268a884",
   "metadata": {},
   "outputs": [],
   "source": [
    "# Converting y_test to dataframe\n",
    "y_test_df = pd.DataFrame(y_test)"
   ]
  },
  {
   "cell_type": "code",
   "execution_count": null,
   "id": "204eee5e",
   "metadata": {},
   "outputs": [],
   "source": [
    "# Appending y_test_df and y_pred_1\n",
    "y_pred_final = pd.concat([y_test_df, y_pred_1],axis=1)"
   ]
  },
  {
   "cell_type": "code",
   "execution_count": null,
   "id": "0609c0ab",
   "metadata": {},
   "outputs": [],
   "source": [
    "y_pred_final.rename(columns={0:'Convert_Prob'},inplace=True)"
   ]
  },
  {
   "cell_type": "code",
   "execution_count": null,
   "id": "397f9f67",
   "metadata": {},
   "outputs": [],
   "source": [
    "y_pred_final.head()"
   ]
  },
  {
   "cell_type": "code",
   "execution_count": null,
   "id": "6cf72717",
   "metadata": {},
   "outputs": [],
   "source": [
    "y_pred_final['final_predicted'] = y_pred_final.Convert_Prob.map(lambda x: 1 if x > 0.32 else 0)"
   ]
  },
  {
   "cell_type": "code",
   "execution_count": null,
   "id": "c4538836",
   "metadata": {},
   "outputs": [],
   "source": [
    "y_pred_final.head()"
   ]
  },
  {
   "cell_type": "code",
   "execution_count": null,
   "id": "f1f75b5d",
   "metadata": {
    "scrolled": true
   },
   "outputs": [],
   "source": [
    "confusion2 = metrics.confusion_matrix(y_pred_final.Converted, y_pred_final.final_predicted )\n",
    "confusion2"
   ]
  },
  {
   "cell_type": "code",
   "execution_count": null,
   "id": "4b5a9213",
   "metadata": {},
   "outputs": [],
   "source": [
    "# Calculating final recall and accuracy score on the testing data\n",
    "print('recall --> ', metrics.recall_score(y_pred_final.Converted, y_pred_final.final_predicted))\n",
    "print('accuracy --> ', metrics.accuracy_score(y_pred_final.Converted, y_pred_final.final_predicted))\n",
    "print('specificity --> ', metrics.recall_score(y_pred_final.Converted, y_pred_final.final_predicted,pos_label=0))"
   ]
  },
  {
   "cell_type": "markdown",
   "id": "028ecdf6",
   "metadata": {},
   "source": [
    "From the above we can see that the recall on the test data comes as 80.6% which is very close to the recall on the training data of 81%. This indicates the model is perfectly ok."
   ]
  },
  {
   "cell_type": "markdown",
   "id": "e64261f5",
   "metadata": {},
   "source": [
    "Now assigning a lead score for every lead number in the dataset. We are multiplying the Convert_Prob column by 100 thus obtaining the required lead score.  "
   ]
  },
  {
   "cell_type": "code",
   "execution_count": null,
   "id": "8f6c27fe",
   "metadata": {},
   "outputs": [],
   "source": [
    "# Generate predicted probabilities using your logistic regression model\n",
    "y_test_pred = lm.predict(X_test_sm)\n",
    "\n",
    "# Create the test results DataFrame ensuring all series have matching lengths\n",
    "test_results = pd.DataFrame({\n",
    "    'Lead Number': lead_number_test,\n",
    "    'Converted': y_test,  # actual conversion status from test set\n",
    "    'Convert_Prob': y_test_pred,\n",
    "    'Final_Predicted': [1 if prob > 0.32 else 0 for prob in y_test_pred],\n",
    "    'Lead_Score': (y_test_pred * 100).round(0)\n",
    "})\n",
    "\n",
    "print(test_results.head())"
   ]
  },
  {
   "cell_type": "code",
   "execution_count": null,
   "id": "49103c23",
   "metadata": {},
   "outputs": [],
   "source": [
    "final_results = pd.concat([train_results, test_results], axis=0).reset_index(drop=True)\n",
    "\n",
    "# 'final_results' now clearly shows each Lead Number with its corresponding lead score.\n",
    "print(final_results.head(10))"
   ]
  },
  {
   "cell_type": "markdown",
   "id": "e8211639",
   "metadata": {},
   "source": [
    "#### The above completes our lead scoring case study in which every lead number is assigned a lead score where a lead score of 32 or more indicates that lead is a hot lead. \n",
    "\n",
    "### Conclusion<br>\n",
    "\n",
    "Candidates with lead score 32 or more should be contacted and should be offered the course."
   ]
  },
  {
   "cell_type": "code",
   "execution_count": null,
   "id": "296684cf",
   "metadata": {},
   "outputs": [],
   "source": []
  },
  {
   "cell_type": "code",
   "execution_count": null,
   "id": "1ec737a4",
   "metadata": {},
   "outputs": [],
   "source": []
  }
 ],
 "metadata": {
  "kernelspec": {
   "display_name": "Python 3 (ipykernel)",
   "language": "python",
   "name": "python3"
  },
  "language_info": {
   "codemirror_mode": {
    "name": "ipython",
    "version": 3
   },
   "file_extension": ".py",
   "mimetype": "text/x-python",
   "name": "python",
   "nbconvert_exporter": "python",
   "pygments_lexer": "ipython3",
   "version": "3.9.12"
  }
 },
 "nbformat": 4,
 "nbformat_minor": 5
}
